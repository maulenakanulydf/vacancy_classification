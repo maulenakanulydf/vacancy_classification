{
 "cells": [
  {
   "cell_type": "code",
   "execution_count": 2,
   "id": "f44e2b76-8cff-40c7-8389-f6e5181c7963",
   "metadata": {},
   "outputs": [],
   "source": [
    "import pandas as pd"
   ]
  },
  {
   "cell_type": "code",
   "execution_count": 27,
   "id": "c86fc559-58b5-46a6-a4b1-25b0a8087610",
   "metadata": {},
   "outputs": [],
   "source": [
    "df = pd.read_csv('college.csv')"
   ]
  },
  {
   "cell_type": "code",
   "execution_count": 10,
   "id": "2970ea2c-578f-4ef8-9d9d-0f8c5d0a011a",
   "metadata": {},
   "outputs": [],
   "source": [
    "import nltk\n",
    "from nltk.corpus import stopwords\n",
    "from nltk.tokenize import word_tokenize\n",
    "\n",
    "import re\n",
    "from nltk.tokenize import RegexpTokenizer\n",
    "from bs4 import BeautifulSoup as bs\n",
    "\n",
    "def preprocess(sentence):\n",
    "    soup = bs(sentence, features=\"html.parser\")\n",
    "    sentence = soup.get_text()\n",
    "    \n",
    "    sentence = str(sentence).lower()\n",
    "    sentence = sentence.replace('{html}',\"\")\n",
    "    \n",
    "    cleanr = re.compile('<.*?>')\n",
    "    cleantext = re.sub(cleanr, '', sentence)\n",
    "    rem_url = re.sub(r'http\\S+', '', cleantext)\n",
    "    rem_num = re.sub('[0-9]+', '', rem_url)\n",
    "    \n",
    "    tokenizer = RegexpTokenizer(r'\\w+|[.,]')\n",
    "    tokens = tokenizer.tokenize(rem_num)\n",
    "    \n",
    "    filtered_words = [w for w in tokens if not w in stopwords.words('russian')]\n",
    "\n",
    "    processed_text = re.sub(r'\\s+([.,])', r'\\1', \" \".join(filtered_words))\n",
    "    \n",
    "    processed_text = re.sub(r'\\.\\s*\\.', '.', processed_text)\n",
    "    \n",
    "    return processed_text"
   ]
  },
  {
   "cell_type": "code",
   "execution_count": 19,
   "id": "53852f10-9842-4a37-aefa-9ace9218973c",
   "metadata": {},
   "outputs": [],
   "source": [
    "df['description'] = df['description'].apply(preprocess)"
   ]
  },
  {
   "cell_type": "code",
   "execution_count": 20,
   "id": "6d6305ce-8826-411b-908f-ff75d5655b1a",
   "metadata": {},
   "outputs": [],
   "source": [
    "words = ['Диплом колледжа', 'средне-специальное образование', 'Вакансия доступна выпускникам колледжей', 'диплом колледжа']"
   ]
  },
  {
   "cell_type": "code",
   "execution_count": 21,
   "id": "b573cefd-f805-44a8-8394-2fe088dbe0e7",
   "metadata": {},
   "outputs": [],
   "source": [
    "names = ['Автоэлектрик','Аналитик-консультант','Менеджер - оценщик', 'Эксперт-оценщик','Бухгалтер-стажер',\n",
    "         'Менеджер по взысканию','Инженер по продажам','Менеджер-оценщик','Помощник оценщика', 'Кредитный менеджер', 'СММ Менеджер',\n",
    "        'Консультант', 'Инспектор по взысканию', 'Специалист по взысканию', 'Системный администратор', 'Инспектор по взысканию','HR-менеджер','Специалист по учету кадров',\n",
    "        'Менеджер по продажам', 'Офис-менеджер', 'Инженер по бурению', 'Директор по персоналу']"
   ]
  },
  {
   "cell_type": "code",
   "execution_count": 24,
   "id": "31d416a9-e0f8-4b17-ad23-2979eb2fb1ce",
   "metadata": {},
   "outputs": [],
   "source": [
    "df_filtered = df_filtered[~df_filtered['description'].str.contains('|'.join(words), case=False, na=False)]"
   ]
  },
  {
   "cell_type": "code",
   "execution_count": 25,
   "id": "ecbf1281-25b6-4a5d-9cd5-97361c7d9c5f",
   "metadata": {},
   "outputs": [
    {
     "data": {
      "text/html": [
       "<div>\n",
       "<style scoped>\n",
       "    .dataframe tbody tr th:only-of-type {\n",
       "        vertical-align: middle;\n",
       "    }\n",
       "\n",
       "    .dataframe tbody tr th {\n",
       "        vertical-align: top;\n",
       "    }\n",
       "\n",
       "    .dataframe thead th {\n",
       "        text-align: right;\n",
       "    }\n",
       "</style>\n",
       "<table border=\"1\" class=\"dataframe\">\n",
       "  <thead>\n",
       "    <tr style=\"text-align: right;\">\n",
       "      <th></th>\n",
       "      <th>name</th>\n",
       "      <th>description</th>\n",
       "      <th>response</th>\n",
       "    </tr>\n",
       "  </thead>\n",
       "  <tbody>\n",
       "    <tr>\n",
       "      <th>0</th>\n",
       "      <td>Старший преподаватель</td>\n",
       "      <td>внимание, конкурс филиал ргкп академия государ...</td>\n",
       "      <td>yes 1.ПРЕПОДАВАТЕЛЬ, ДОЦЕНТ, ПРОФЕССОР ИНФОРМА...</td>\n",
       "    </tr>\n",
       "    <tr>\n",
       "      <th>1</th>\n",
       "      <td>Старший преподаватель</td>\n",
       "      <td>внимание, конкурс филиал ргкп академия государ...</td>\n",
       "      <td>yes 1.ПРЕПОДАВАТЕЛЬ, ДОЦЕНТ, ПРОФЕССОР ИНФОРМА...</td>\n",
       "    </tr>\n",
       "    <tr>\n",
       "      <th>2</th>\n",
       "      <td>Старший преподаватель по переподготовке и повы...</td>\n",
       "      <td>назар аударыңыз, конкурс қазақстан республикас...</td>\n",
       "      <td>yes 1.ПРЕПОДАВАТЕЛЬ, ДОЦЕНТ, ПРОФЕССОР ИНФОРМА...</td>\n",
       "    </tr>\n",
       "    <tr>\n",
       "      <th>3</th>\n",
       "      <td>Преподаватель</td>\n",
       "      <td>назар аударыңыз, конкурс қазақстан республикас...</td>\n",
       "      <td>yes 1.ПРЕПОДАВАТЕЛЬ, ДОЦЕНТ, ПРОФЕССОР ИНФОРМА...</td>\n",
       "    </tr>\n",
       "    <tr>\n",
       "      <th>4</th>\n",
       "      <td>Преподаватель английского языка</td>\n",
       "      <td>кафедру английского языка требуются сотрудники...</td>\n",
       "      <td>no \\n</td>\n",
       "    </tr>\n",
       "    <tr>\n",
       "      <th>...</th>\n",
       "      <td>...</td>\n",
       "      <td>...</td>\n",
       "      <td>...</td>\n",
       "    </tr>\n",
       "    <tr>\n",
       "      <th>642</th>\n",
       "      <td>Доцент кафедры</td>\n",
       "      <td>кафедра архитектуры ед. кафедра геодезии карто...</td>\n",
       "      <td>no \\n\\n\\nThis description outlines requirement...</td>\n",
       "    </tr>\n",
       "    <tr>\n",
       "      <th>643</th>\n",
       "      <td>Профессор кафедры «Геодезии и картографии»</td>\n",
       "      <td>наличие ученой степени кандидата наук, доктора...</td>\n",
       "      <td>no \\n</td>\n",
       "    </tr>\n",
       "    <tr>\n",
       "      <th>644</th>\n",
       "      <td>Халықаралық ынтымақтастық және академиялық ұтқ...</td>\n",
       "      <td>міндеттері шетелдік әріптестермен ынтымақтасты...</td>\n",
       "      <td>no \\n</td>\n",
       "    </tr>\n",
       "    <tr>\n",
       "      <th>645</th>\n",
       "      <td>Менеджер</td>\n",
       "      <td>требования образование высшееспециальность док...</td>\n",
       "      <td>no \\n</td>\n",
       "    </tr>\n",
       "    <tr>\n",
       "      <th>646</th>\n",
       "      <td>Директор Института инноваций и дополнительного...</td>\n",
       "      <td>условия радиус проживания км. обязанности орга...</td>\n",
       "      <td>no \\n</td>\n",
       "    </tr>\n",
       "  </tbody>\n",
       "</table>\n",
       "<p>647 rows × 3 columns</p>\n",
       "</div>"
      ],
      "text/plain": [
       "                                                  name  \\\n",
       "0                                Старший преподаватель   \n",
       "1                                Старший преподаватель   \n",
       "2    Старший преподаватель по переподготовке и повы...   \n",
       "3                                        Преподаватель   \n",
       "4                      Преподаватель английского языка   \n",
       "..                                                 ...   \n",
       "642                                     Доцент кафедры   \n",
       "643         Профессор кафедры «Геодезии и картографии»   \n",
       "644  Халықаралық ынтымақтастық және академиялық ұтқ...   \n",
       "645                                           Менеджер   \n",
       "646  Директор Института инноваций и дополнительного...   \n",
       "\n",
       "                                           description  \\\n",
       "0    внимание, конкурс филиал ргкп академия государ...   \n",
       "1    внимание, конкурс филиал ргкп академия государ...   \n",
       "2    назар аударыңыз, конкурс қазақстан республикас...   \n",
       "3    назар аударыңыз, конкурс қазақстан республикас...   \n",
       "4    кафедру английского языка требуются сотрудники...   \n",
       "..                                                 ...   \n",
       "642  кафедра архитектуры ед. кафедра геодезии карто...   \n",
       "643  наличие ученой степени кандидата наук, доктора...   \n",
       "644  міндеттері шетелдік әріптестермен ынтымақтасты...   \n",
       "645  требования образование высшееспециальность док...   \n",
       "646  условия радиус проживания км. обязанности орга...   \n",
       "\n",
       "                                              response  \n",
       "0    yes 1.ПРЕПОДАВАТЕЛЬ, ДОЦЕНТ, ПРОФЕССОР ИНФОРМА...  \n",
       "1    yes 1.ПРЕПОДАВАТЕЛЬ, ДОЦЕНТ, ПРОФЕССОР ИНФОРМА...  \n",
       "2    yes 1.ПРЕПОДАВАТЕЛЬ, ДОЦЕНТ, ПРОФЕССОР ИНФОРМА...  \n",
       "3    yes 1.ПРЕПОДАВАТЕЛЬ, ДОЦЕНТ, ПРОФЕССОР ИНФОРМА...  \n",
       "4                                                no \\n  \n",
       "..                                                 ...  \n",
       "642  no \\n\\n\\nThis description outlines requirement...  \n",
       "643                                              no \\n  \n",
       "644                                              no \\n  \n",
       "645                                              no \\n  \n",
       "646                                              no \\n  \n",
       "\n",
       "[647 rows x 3 columns]"
      ]
     },
     "execution_count": 25,
     "metadata": {},
     "output_type": "execute_result"
    }
   ],
   "source": [
    "df_filtered"
   ]
  },
  {
   "cell_type": "code",
   "execution_count": 297,
   "id": "f5302db0-2125-43eb-9451-c62ccd6eb778",
   "metadata": {},
   "outputs": [],
   "source": [
    "df = uni"
   ]
  },
  {
   "cell_type": "code",
   "execution_count": 28,
   "id": "cced23d6-4da8-44e6-8dad-e46be68f0adc",
   "metadata": {},
   "outputs": [],
   "source": [
    "API_URL = \"http://51.20.96.227/api/v1/prediction/c01b4b2d-07e1-4c85-90f9-34f9417bce63\""
   ]
  },
  {
   "cell_type": "code",
   "execution_count": 29,
   "id": "7d8a134b-97ed-4e24-80be-f1998d09d468",
   "metadata": {},
   "outputs": [],
   "source": [
    "def query(payload):\n",
    "    response = requests.post(API_URL, json=payload)\n",
    "    return response.json()"
   ]
  },
  {
   "cell_type": "code",
   "execution_count": 30,
   "id": "610c994d-ead3-43e5-a395-9ec85ed4a118",
   "metadata": {},
   "outputs": [],
   "source": [
    "df= df.drop('response', axis=1)"
   ]
  },
  {
   "cell_type": "code",
   "execution_count": 31,
   "id": "fbfc26e8-4db6-4590-a6b7-6f4d8fe5d191",
   "metadata": {},
   "outputs": [],
   "source": [
    "if 'response' not in df.columns:\n",
    "    df['response'] = \"\""
   ]
  },
  {
   "cell_type": "code",
   "execution_count": null,
   "id": "b916f016-0a9e-484f-bfa1-33e89605541a",
   "metadata": {},
   "outputs": [
    {
     "name": "stdout",
     "output_type": "stream",
     "text": [
      "Обработано 50 из 647 записей. Осталось: 597\n",
      "Обработано 100 из 647 записей. Осталось: 547\n",
      "Обработано 150 из 647 записей. Осталось: 497\n",
      "Обработано 200 из 647 записей. Осталось: 447\n",
      "Обработано 250 из 647 записей. Осталось: 397\n",
      "Обработано 300 из 647 записей. Осталось: 347\n",
      "Обработано 350 из 647 записей. Осталось: 297\n",
      "Обработано 400 из 647 записей. Осталось: 247\n",
      "Обработано 450 из 647 записей. Осталось: 197\n",
      "Обработано 500 из 647 записей. Осталось: 147\n",
      "Обработано 550 из 647 записей. Осталось: 97\n"
     ]
    }
   ],
   "source": [
    "import pandas as pd\n",
    "import aiohttp\n",
    "import asyncio\n",
    "\n",
    "CSV_OUTPUT_PATH = 'college.csv'\n",
    "BATCH_SAVE_SIZE = 50 \n",
    "\n",
    "unprocessed_df = df[df['response'].isna() | (df['response'] == \"\")]\n",
    "total_records = len(unprocessed_df)\n",
    "processed_count = 0\n",
    "\n",
    "async def query(session, payload):\n",
    "    try:\n",
    "        async with session.post(API_URL, json=payload) as response:\n",
    "            response.raise_for_status()  \n",
    "            return await response.json()\n",
    "    except Exception as e:\n",
    "        print(f\"Request failed: {e}\")\n",
    "        return None\n",
    "\n",
    "async def process_records(unprocessed_df):\n",
    "    global processed_count\n",
    "\n",
    "    async with aiohttp.ClientSession() as session:\n",
    "        tasks = []\n",
    "        indices = []\n",
    "\n",
    "        for index, row in unprocessed_df.iterrows():\n",
    "            tasks.append(query(session, {\"question\": row['description']}))\n",
    "            indices.append(index)\n",
    "\n",
    "            if len(tasks) >= BATCH_SAVE_SIZE:\n",
    "                responses = await asyncio.gather(*tasks)\n",
    "                for idx, response in enumerate(responses):\n",
    "                    if response is not None:\n",
    "                        df.at[indices[idx], 'response'] = response.get('text', '')\n",
    "\n",
    "                tasks.clear()\n",
    "                indices.clear()\n",
    "\n",
    "                processed_count += BATCH_SAVE_SIZE\n",
    "                remaining_records = total_records - processed_count\n",
    "                print(f\"Обработано {processed_count} из {total_records} записей. Осталось: {remaining_records}\")\n",
    "                df.to_csv(CSV_OUTPUT_PATH, index=False)\n",
    "\n",
    "        if tasks:\n",
    "            responses = await asyncio.gather(*tasks)\n",
    "            for idx, response in enumerate(responses):\n",
    "                if response is not None:\n",
    "                    df.at[indices[idx], 'response'] = response.get('text', '')\n",
    "\n",
    "            processed_count += len(tasks)\n",
    "            remaining_records = total_records - processed_count\n",
    "            print(f\"Обработано {processed_count} из {total_records} записей. Осталось: {remaining_records}\")\n",
    "\n",
    "        df.to_csv(CSV_OUTPUT_PATH, index=False)\n",
    "\n",
    "loop = asyncio.get_event_loop()\n",
    "if loop.is_running():\n",
    "    await process_records(unprocessed_df)\n",
    "else:\n",
    "    loop.run_until_complete(process_records(unprocessed_df))\n",
    "\n",
    "print(f\"Все результаты сохранены в '{CSV_OUTPUT_PATH}'.\")"
   ]
  },
  {
   "cell_type": "code",
   "execution_count": 441,
   "id": "35787ead-980e-41cc-8d69-fd0c6a573a22",
   "metadata": {},
   "outputs": [],
   "source": [
    "df_f = df[df['response']!='no \\n']"
   ]
  },
  {
   "cell_type": "code",
   "execution_count": 442,
   "id": "54a6dc99-c5b2-4f75-b944-ec9c96488373",
   "metadata": {},
   "outputs": [],
   "source": [
    "df_f = df_f[df_f['response']!='no \\n\\n\\n'] ##"
   ]
  },
  {
   "cell_type": "code",
   "execution_count": 443,
   "id": "6a48a92e-9715-40c5-b0ae-9e0095e6efac",
   "metadata": {},
   "outputs": [],
   "source": [
    "df_f = df_f[df_f['response']!='no \\n\\n\\nLet me know if you have another job description to classify! \\n'] ##"
   ]
  },
  {
   "cell_type": "code",
   "execution_count": 47,
   "id": "2535058e-4b17-4c2a-8c61-bf4a04b64ce1",
   "metadata": {},
   "outputs": [],
   "source": [
    "selskoe = pd.read_excel('after_extract/uni/Преподаватель вуза - педагогика.xlsx')"
   ]
  },
  {
   "cell_type": "code",
   "execution_count": 48,
   "id": "0c089fcd-964b-4d59-a57d-b4087d76986f",
   "metadata": {},
   "outputs": [],
   "source": [
    "selskoe['description'] = selskoe['description'].apply(lambda x: preprocess(x))"
   ]
  },
  {
   "cell_type": "code",
   "execution_count": 49,
   "id": "0fba6d65-2767-4dbc-b2d1-b4d8bc182a1e",
   "metadata": {},
   "outputs": [],
   "source": [
    "selskoe.to_excel('after_extract/uni/Преподаватель вуза - педагогика.xlsx')"
   ]
  },
  {
   "cell_type": "code",
   "execution_count": 51,
   "id": "caf65ff5-d1b9-443c-938a-327eb618c37d",
   "metadata": {},
   "outputs": [],
   "source": [
    "f_113 = pd.read_excel('before_extract/113.xlsx')"
   ]
  },
  {
   "cell_type": "code",
   "execution_count": 53,
   "id": "593a4406-ab56-4822-86d0-729cb10be233",
   "metadata": {},
   "outputs": [],
   "source": [
    "f_113['description'] = f_113['description'].apply(preprocess)"
   ]
  },
  {
   "cell_type": "code",
   "execution_count": 55,
   "id": "29ab5f9a-69ee-447a-8b87-66e0e01986a0",
   "metadata": {},
   "outputs": [],
   "source": [
    "f_113.to_excel('before_extract/113.xlsx')"
   ]
  },
  {
   "cell_type": "code",
   "execution_count": 77,
   "id": "f7ab25c6-9817-4db5-b2fc-659c0f7e2e35",
   "metadata": {},
   "outputs": [],
   "source": [
    "df_113 = pd.read_excel('fix_for_extract/113.xlsx')"
   ]
  },
  {
   "cell_type": "code",
   "execution_count": 62,
   "id": "93ec02c4-4c81-47ae-858c-1c6f0aad7513",
   "metadata": {},
   "outputs": [],
   "source": [
    "f_274 = pd.read_excel('fix_for_extract/274.xlsx')"
   ]
  },
  {
   "cell_type": "code",
   "execution_count": 64,
   "id": "d713cfbb-aa3a-4761-a418-da4eb0f5f829",
   "metadata": {},
   "outputs": [],
   "source": [
    "f_274['description'] = f_274['description'].apply(preprocess)"
   ]
  },
  {
   "cell_type": "code",
   "execution_count": 65,
   "id": "02f24fd0-49c8-4911-b04c-437eb9db83fa",
   "metadata": {},
   "outputs": [],
   "source": [
    "f_274.to_excel('fix_for_extract/274.xlsx')"
   ]
  },
  {
   "cell_type": "code",
   "execution_count": 72,
   "id": "96ac140f-f642-4670-92d9-fa18b692c033",
   "metadata": {},
   "outputs": [],
   "source": [
    "f_282 = pd.read_excel('fix_for_extract/282.xlsx')"
   ]
  },
  {
   "cell_type": "code",
   "execution_count": 69,
   "id": "4bd3cc75-1d92-4c37-a9aa-5b1221ed084b",
   "metadata": {},
   "outputs": [],
   "source": [
    "f_282['description'] = df['description'].apply(preprocess)"
   ]
  },
  {
   "cell_type": "code",
   "execution_count": 70,
   "id": "457b9dd9-8ef3-4e3d-a30b-3d3d3bf606d8",
   "metadata": {},
   "outputs": [],
   "source": [
    "f_282.to_excel('fix_for_extract/282.xlsx')"
   ]
  },
  {
   "cell_type": "code",
   "execution_count": 91,
   "id": "0363feb8-3a59-4a8f-90da-39ea7a4bc643",
   "metadata": {},
   "outputs": [],
   "source": [
    "f_263 = pd.read_excel('fix_for_extract/263.xlsx')"
   ]
  },
  {
   "cell_type": "code",
   "execution_count": 84,
   "id": "ca884086-b5f2-450f-b243-91483537bbcb",
   "metadata": {},
   "outputs": [],
   "source": [
    "f_263['description'] = f_263['description'].apply(lambda x: preprocess(x))"
   ]
  },
  {
   "cell_type": "code",
   "execution_count": 85,
   "id": "6262eb6a-2d51-47b1-9426-6984770aad75",
   "metadata": {},
   "outputs": [],
   "source": [
    "f_263.to_excel('fix_for_extract/263.xlsx')"
   ]
  },
  {
   "cell_type": "code",
   "execution_count": 86,
   "id": "ddb1eb00-a008-46a8-8a5f-41acf995d50a",
   "metadata": {},
   "outputs": [],
   "source": [
    "df_402 = pd.read_excel('fix_for_extract/400-professions (2).xlsx')"
   ]
  },
  {
   "cell_type": "code",
   "execution_count": 89,
   "id": "63c1ad6b-c5d7-481c-a574-4b0fc562b808",
   "metadata": {},
   "outputs": [
    {
     "data": {
      "text/plain": [
       "400"
      ]
     },
     "execution_count": 89,
     "metadata": {},
     "output_type": "execute_result"
    }
   ],
   "source": [
    "len(df_402['ID'].value_counts())"
   ]
  },
  {
   "cell_type": "code",
   "execution_count": 103,
   "id": "77ead22d-af0a-4db8-be98-0bd2e08e14d6",
   "metadata": {},
   "outputs": [],
   "source": [
    "f_263.rename(columns={'profession_id':'class'}, inplace=True)"
   ]
  },
  {
   "cell_type": "code",
   "execution_count": 97,
   "id": "4f915f30-b93b-44b3-9a17-3613d1425678",
   "metadata": {},
   "outputs": [],
   "source": [
    "f_327 = pd.read_excel('fix_for_extract/327.xlsx')"
   ]
  },
  {
   "cell_type": "code",
   "execution_count": 95,
   "id": "60a5da27-dfe2-4cf7-a262-1b8e9f9d697c",
   "metadata": {},
   "outputs": [],
   "source": [
    "f_327['description'] = f_327['description'].apply(preprocess)"
   ]
  },
  {
   "cell_type": "code",
   "execution_count": 96,
   "id": "c0b7c039-2a4a-4574-8782-e93943d9c9cd",
   "metadata": {},
   "outputs": [],
   "source": [
    "f_327.to_excel('fix_for_extract/327.xlsx')"
   ]
  },
  {
   "cell_type": "code",
   "execution_count": 99,
   "id": "658c1b41-1fcb-41ee-9d95-6451d55f59ea",
   "metadata": {},
   "outputs": [],
   "source": [
    "f_327['profession_id'] = 327"
   ]
  },
  {
   "cell_type": "code",
   "execution_count": 101,
   "id": "1cc042d8-08c6-4335-89d2-d0f82202ea7f",
   "metadata": {},
   "outputs": [],
   "source": [
    "f_327.rename(columns={'profession_id':'class'}, inplace=True)"
   ]
  },
  {
   "cell_type": "code",
   "execution_count": 102,
   "id": "61ff0ca6-c2fc-410f-b367-3ab372fedc22",
   "metadata": {},
   "outputs": [
    {
     "data": {
      "text/html": [
       "<div>\n",
       "<style scoped>\n",
       "    .dataframe tbody tr th:only-of-type {\n",
       "        vertical-align: middle;\n",
       "    }\n",
       "\n",
       "    .dataframe tbody tr th {\n",
       "        vertical-align: top;\n",
       "    }\n",
       "\n",
       "    .dataframe thead th {\n",
       "        text-align: right;\n",
       "    }\n",
       "</style>\n",
       "<table border=\"1\" class=\"dataframe\">\n",
       "  <thead>\n",
       "    <tr style=\"text-align: right;\">\n",
       "      <th></th>\n",
       "      <th>Unnamed: 0</th>\n",
       "      <th>id</th>\n",
       "      <th>name</th>\n",
       "      <th>description</th>\n",
       "      <th>class</th>\n",
       "    </tr>\n",
       "  </thead>\n",
       "  <tbody>\n",
       "    <tr>\n",
       "      <th>0</th>\n",
       "      <td>0.0</td>\n",
       "      <td>22859.0</td>\n",
       "      <td>Инженер по стандартизации и сертификации проду...</td>\n",
       "      <td>обязанности планирование организация работ ста...</td>\n",
       "      <td>327</td>\n",
       "    </tr>\n",
       "    <tr>\n",
       "      <th>1</th>\n",
       "      <td>1.0</td>\n",
       "      <td>22859.0</td>\n",
       "      <td>Инженер по стандартизации и сертификации проду...</td>\n",
       "      <td>обязанности осуществляет обязательный нормализ...</td>\n",
       "      <td>327</td>\n",
       "    </tr>\n",
       "    <tr>\n",
       "      <th>2</th>\n",
       "      <td>2.0</td>\n",
       "      <td>22859.0</td>\n",
       "      <td>Инженер по стандартизации и сертификации проду...</td>\n",
       "      <td>обязанности оформление документов получения од...</td>\n",
       "      <td>327</td>\n",
       "    </tr>\n",
       "    <tr>\n",
       "      <th>3</th>\n",
       "      <td>3.0</td>\n",
       "      <td>22859.0</td>\n",
       "      <td>Инженер по стандартизации и сертификации проду...</td>\n",
       "      <td>обязанности осуществлять поиск материалов отеч...</td>\n",
       "      <td>327</td>\n",
       "    </tr>\n",
       "    <tr>\n",
       "      <th>4</th>\n",
       "      <td>4.0</td>\n",
       "      <td>136869.0</td>\n",
       "      <td>Инженер по стандартизации и метрологии</td>\n",
       "      <td>обязанности метрологическое сопровождение обор...</td>\n",
       "      <td>327</td>\n",
       "    </tr>\n",
       "    <tr>\n",
       "      <th>...</th>\n",
       "      <td>...</td>\n",
       "      <td>...</td>\n",
       "      <td>...</td>\n",
       "      <td>...</td>\n",
       "      <td>...</td>\n",
       "    </tr>\n",
       "    <tr>\n",
       "      <th>195</th>\n",
       "      <td>NaN</td>\n",
       "      <td>NaN</td>\n",
       "      <td>Специалист по аудиту производственных процессов</td>\n",
       "      <td>Обязанности: Проводит аудиты производственных ...</td>\n",
       "      <td>327</td>\n",
       "    </tr>\n",
       "    <tr>\n",
       "      <th>196</th>\n",
       "      <td>NaN</td>\n",
       "      <td>NaN</td>\n",
       "      <td>Инженер по разработке нормативной документации</td>\n",
       "      <td>Обязанности: Разрабатывает и актуализирует нор...</td>\n",
       "      <td>327</td>\n",
       "    </tr>\n",
       "    <tr>\n",
       "      <th>197</th>\n",
       "      <td>NaN</td>\n",
       "      <td>NaN</td>\n",
       "      <td>Специалист по управлению качеством</td>\n",
       "      <td>Обязанности: Контролирует качество продукции, ...</td>\n",
       "      <td>327</td>\n",
       "    </tr>\n",
       "    <tr>\n",
       "      <th>198</th>\n",
       "      <td>NaN</td>\n",
       "      <td>NaN</td>\n",
       "      <td>Техник по сертификации и проверке документации</td>\n",
       "      <td>Обязанности: Ведет документацию по сертификаци...</td>\n",
       "      <td>327</td>\n",
       "    </tr>\n",
       "    <tr>\n",
       "      <th>199</th>\n",
       "      <td>NaN</td>\n",
       "      <td>NaN</td>\n",
       "      <td>Инженер по инспекции и анализу качества</td>\n",
       "      <td>Обязанности: Проводит инспекцию продукции на с...</td>\n",
       "      <td>327</td>\n",
       "    </tr>\n",
       "  </tbody>\n",
       "</table>\n",
       "<p>200 rows × 5 columns</p>\n",
       "</div>"
      ],
      "text/plain": [
       "     Unnamed: 0        id                                               name  \\\n",
       "0           0.0   22859.0  Инженер по стандартизации и сертификации проду...   \n",
       "1           1.0   22859.0  Инженер по стандартизации и сертификации проду...   \n",
       "2           2.0   22859.0  Инженер по стандартизации и сертификации проду...   \n",
       "3           3.0   22859.0  Инженер по стандартизации и сертификации проду...   \n",
       "4           4.0  136869.0             Инженер по стандартизации и метрологии   \n",
       "..          ...       ...                                                ...   \n",
       "195         NaN       NaN    Специалист по аудиту производственных процессов   \n",
       "196         NaN       NaN     Инженер по разработке нормативной документации   \n",
       "197         NaN       NaN                 Специалист по управлению качеством   \n",
       "198         NaN       NaN     Техник по сертификации и проверке документации   \n",
       "199         NaN       NaN            Инженер по инспекции и анализу качества   \n",
       "\n",
       "                                           description  class  \n",
       "0    обязанности планирование организация работ ста...    327  \n",
       "1    обязанности осуществляет обязательный нормализ...    327  \n",
       "2    обязанности оформление документов получения од...    327  \n",
       "3    обязанности осуществлять поиск материалов отеч...    327  \n",
       "4    обязанности метрологическое сопровождение обор...    327  \n",
       "..                                                 ...    ...  \n",
       "195  Обязанности: Проводит аудиты производственных ...    327  \n",
       "196  Обязанности: Разрабатывает и актуализирует нор...    327  \n",
       "197  Обязанности: Контролирует качество продукции, ...    327  \n",
       "198  Обязанности: Ведет документацию по сертификаци...    327  \n",
       "199  Обязанности: Проводит инспекцию продукции на с...    327  \n",
       "\n",
       "[200 rows x 5 columns]"
      ]
     },
     "execution_count": 102,
     "metadata": {},
     "output_type": "execute_result"
    }
   ],
   "source": [
    "f_327"
   ]
  },
  {
   "cell_type": "code",
   "execution_count": 112,
   "id": "0dabfc74-7bc4-4a8f-869a-1a016d9376e3",
   "metadata": {},
   "outputs": [],
   "source": [
    "f_338 = pd.read_excel('fix_for_extract/338.xlsx')"
   ]
  },
  {
   "cell_type": "code",
   "execution_count": 106,
   "id": "2bce7bfb-f08d-4666-a802-667245019765",
   "metadata": {},
   "outputs": [],
   "source": [
    "f_338['description'] = f_338['description'].apply(preprocess)"
   ]
  },
  {
   "cell_type": "code",
   "execution_count": 108,
   "id": "9bbe8d29-663e-453f-84dc-32885f18e9e8",
   "metadata": {},
   "outputs": [],
   "source": [
    "f_338.to_excel('fix_for_extract/338.xlsx')"
   ]
  },
  {
   "cell_type": "code",
   "execution_count": 114,
   "id": "420d976f-a362-40d0-ad02-3248802f9829",
   "metadata": {},
   "outputs": [],
   "source": [
    "f_338['profession_id'] = 338"
   ]
  },
  {
   "cell_type": "code",
   "execution_count": 116,
   "id": "65f742c0-06fd-4d1d-8f00-9533f5a975d7",
   "metadata": {},
   "outputs": [],
   "source": [
    "f_338.rename(columns={'profession_id':'class'}, inplace=True)"
   ]
  },
  {
   "cell_type": "code",
   "execution_count": 344,
   "id": "85542f60-7470-4ebf-870e-d3604f7a1bed",
   "metadata": {},
   "outputs": [
    {
     "data": {
      "text/html": [
       "<div>\n",
       "<style scoped>\n",
       "    .dataframe tbody tr th:only-of-type {\n",
       "        vertical-align: middle;\n",
       "    }\n",
       "\n",
       "    .dataframe tbody tr th {\n",
       "        vertical-align: top;\n",
       "    }\n",
       "\n",
       "    .dataframe thead th {\n",
       "        text-align: right;\n",
       "    }\n",
       "</style>\n",
       "<table border=\"1\" class=\"dataframe\">\n",
       "  <thead>\n",
       "    <tr style=\"text-align: right;\">\n",
       "      <th></th>\n",
       "      <th>Unnamed: 0</th>\n",
       "      <th>id</th>\n",
       "      <th>name</th>\n",
       "      <th>description</th>\n",
       "      <th>class</th>\n",
       "    </tr>\n",
       "  </thead>\n",
       "  <tbody>\n",
       "    <tr>\n",
       "      <th>0</th>\n",
       "      <td>0.0</td>\n",
       "      <td>166163.0</td>\n",
       "      <td>Инструктор-координатор по обучению службы авиа...</td>\n",
       "      <td>обязанности планирование, организация, проведе...</td>\n",
       "      <td>373</td>\n",
       "    </tr>\n",
       "    <tr>\n",
       "      <th>1</th>\n",
       "      <td>1.0</td>\n",
       "      <td>40129.0</td>\n",
       "      <td>Инспектор Службы авиационной безопасности</td>\n",
       "      <td>обязанности обеспечивать охрану вс ангаре стоя...</td>\n",
       "      <td>373</td>\n",
       "    </tr>\n",
       "    <tr>\n",
       "      <th>2</th>\n",
       "      <td>2.0</td>\n",
       "      <td>40129.0</td>\n",
       "      <td>Инспектор Службы авиационной безопасности</td>\n",
       "      <td>обязанности осуществляет круглосуточную охрану...</td>\n",
       "      <td>373</td>\n",
       "    </tr>\n",
       "    <tr>\n",
       "      <th>3</th>\n",
       "      <td>3.0</td>\n",
       "      <td>8607.0</td>\n",
       "      <td>Инструктор по авиационной безопасности</td>\n",
       "      <td>года международный аэропорт алматы вошёл соста...</td>\n",
       "      <td>373</td>\n",
       "    </tr>\n",
       "    <tr>\n",
       "      <th>4</th>\n",
       "      <td>4.0</td>\n",
       "      <td>8607.0</td>\n",
       "      <td>Инструктор по авиационной безопасности</td>\n",
       "      <td>года международный аэропорт алматы вошёл соста...</td>\n",
       "      <td>373</td>\n",
       "    </tr>\n",
       "    <tr>\n",
       "      <th>...</th>\n",
       "      <td>...</td>\n",
       "      <td>...</td>\n",
       "      <td>...</td>\n",
       "      <td>...</td>\n",
       "      <td>...</td>\n",
       "    </tr>\n",
       "    <tr>\n",
       "      <th>194</th>\n",
       "      <td>NaN</td>\n",
       "      <td>NaN</td>\n",
       "      <td>Инспектор по логистике запасных частей</td>\n",
       "      <td>Контроль за поставками и учетом запасных часте...</td>\n",
       "      <td>373</td>\n",
       "    </tr>\n",
       "    <tr>\n",
       "      <th>195</th>\n",
       "      <td>NaN</td>\n",
       "      <td>NaN</td>\n",
       "      <td>Инспектор по проверке соблюдения инструкций</td>\n",
       "      <td>Контроль выполнения инструкций по безопасности...</td>\n",
       "      <td>373</td>\n",
       "    </tr>\n",
       "    <tr>\n",
       "      <th>196</th>\n",
       "      <td>NaN</td>\n",
       "      <td>NaN</td>\n",
       "      <td>Инспектор по качеству связи</td>\n",
       "      <td>Оценка качества связи и коммуникаций на всех э...</td>\n",
       "      <td>373</td>\n",
       "    </tr>\n",
       "    <tr>\n",
       "      <th>197</th>\n",
       "      <td>NaN</td>\n",
       "      <td>NaN</td>\n",
       "      <td>Инспектор по организации парковки воздушных судов</td>\n",
       "      <td>Контроль за процессом парковки воздушных судов...</td>\n",
       "      <td>373</td>\n",
       "    </tr>\n",
       "    <tr>\n",
       "      <th>198</th>\n",
       "      <td>NaN</td>\n",
       "      <td>NaN</td>\n",
       "      <td>Инспектор по проверке систем автоматизации</td>\n",
       "      <td>Оценка состояния автоматизированных систем аэр...</td>\n",
       "      <td>373</td>\n",
       "    </tr>\n",
       "  </tbody>\n",
       "</table>\n",
       "<p>199 rows × 5 columns</p>\n",
       "</div>"
      ],
      "text/plain": [
       "     Unnamed: 0        id                                               name  \\\n",
       "0           0.0  166163.0  Инструктор-координатор по обучению службы авиа...   \n",
       "1           1.0   40129.0          Инспектор Службы авиационной безопасности   \n",
       "2           2.0   40129.0          Инспектор Службы авиационной безопасности   \n",
       "3           3.0    8607.0             Инструктор по авиационной безопасности   \n",
       "4           4.0    8607.0             Инструктор по авиационной безопасности   \n",
       "..          ...       ...                                                ...   \n",
       "194         NaN       NaN             Инспектор по логистике запасных частей   \n",
       "195         NaN       NaN        Инспектор по проверке соблюдения инструкций   \n",
       "196         NaN       NaN                        Инспектор по качеству связи   \n",
       "197         NaN       NaN  Инспектор по организации парковки воздушных судов   \n",
       "198         NaN       NaN         Инспектор по проверке систем автоматизации   \n",
       "\n",
       "                                           description  class  \n",
       "0    обязанности планирование, организация, проведе...    373  \n",
       "1    обязанности обеспечивать охрану вс ангаре стоя...    373  \n",
       "2    обязанности осуществляет круглосуточную охрану...    373  \n",
       "3    года международный аэропорт алматы вошёл соста...    373  \n",
       "4    года международный аэропорт алматы вошёл соста...    373  \n",
       "..                                                 ...    ...  \n",
       "194  Контроль за поставками и учетом запасных часте...    373  \n",
       "195  Контроль выполнения инструкций по безопасности...    373  \n",
       "196  Оценка качества связи и коммуникаций на всех э...    373  \n",
       "197  Контроль за процессом парковки воздушных судов...    373  \n",
       "198  Оценка состояния автоматизированных систем аэр...    373  \n",
       "\n",
       "[199 rows x 5 columns]"
      ]
     },
     "execution_count": 344,
     "metadata": {},
     "output_type": "execute_result"
    }
   ],
   "source": [
    "f_373"
   ]
  },
  {
   "cell_type": "code",
   "execution_count": null,
   "id": "21ecf162-9385-40af-9e66-a91c1a5b3253",
   "metadata": {},
   "outputs": [],
   "source": []
  }
 ],
 "metadata": {
  "kernelspec": {
   "display_name": "Python 3 (ipykernel)",
   "language": "python",
   "name": "python3"
  },
  "language_info": {
   "codemirror_mode": {
    "name": "ipython",
    "version": 3
   },
   "file_extension": ".py",
   "mimetype": "text/x-python",
   "name": "python",
   "nbconvert_exporter": "python",
   "pygments_lexer": "ipython3",
   "version": "3.10.14"
  }
 },
 "nbformat": 4,
 "nbformat_minor": 5
}
