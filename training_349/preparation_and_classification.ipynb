{
 "cells": [
  {
   "cell_type": "code",
   "execution_count": 1,
   "id": "c44f7792-6a02-4a56-b004-134cbd4d852b",
   "metadata": {},
   "outputs": [],
   "source": [
    "import pandas as pd"
   ]
  },
  {
   "cell_type": "code",
   "execution_count": 2,
   "id": "bf187953-bd68-4113-9d2a-3b47ff0857af",
   "metadata": {},
   "outputs": [],
   "source": [
    "df = pd.read_excel('dataset/df_3_final_realy_really.xlsx')"
   ]
  },
  {
   "cell_type": "code",
   "execution_count": 3,
   "id": "045c7fb2-60fa-4833-823d-8d858c35ac57",
   "metadata": {},
   "outputs": [],
   "source": [
    "from sklearn.preprocessing import LabelEncoder\n",
    "encoder = LabelEncoder()\n",
    "df['class'] = encoder.fit_transform(df['class'])"
   ]
  },
  {
   "cell_type": "code",
   "execution_count": 4,
   "id": "30ee76b2-5c7f-4487-a9c9-f99451ff3f01",
   "metadata": {},
   "outputs": [],
   "source": [
    "import torch\n",
    "from transformers import AutoTokenizer, AutoModelForSequenceClassification"
   ]
  },
  {
   "cell_type": "code",
   "execution_count": 5,
   "id": "1ed83276-bb8d-4087-9fe2-78f8a4059228",
   "metadata": {},
   "outputs": [
    {
     "name": "stderr",
     "output_type": "stream",
     "text": [
      "Some weights of BertForSequenceClassification were not initialized from the model checkpoint at DeepPavlov/rubert-base-cased and are newly initialized: ['classifier.bias', 'classifier.weight']\n",
      "You should probably TRAIN this model on a down-stream task to be able to use it for predictions and inference.\n"
     ]
    }
   ],
   "source": [
    "tokenizer = AutoTokenizer.from_pretrained('DeepPavlov/rubert-base-cased')\n",
    "model = AutoModelForSequenceClassification.from_pretrained('DeepPavlov/rubert-base-cased', num_labels=349, output_attentions=True, output_hidden_states=True)"
   ]
  },
  {
   "cell_type": "code",
   "execution_count": 6,
   "id": "657d00fa-7a1c-4d1f-afa3-6ca360dd1cfe",
   "metadata": {
    "collapsed": true,
    "jupyter": {
     "outputs_hidden": true
    },
    "scrolled": true
   },
   "outputs": [
    {
     "data": {
      "text/plain": [
       "BertForSequenceClassification(\n",
       "  (bert): BertModel(\n",
       "    (embeddings): BertEmbeddings(\n",
       "      (word_embeddings): Embedding(119547, 768, padding_idx=0)\n",
       "      (position_embeddings): Embedding(512, 768)\n",
       "      (token_type_embeddings): Embedding(2, 768)\n",
       "      (LayerNorm): LayerNorm((768,), eps=1e-12, elementwise_affine=True)\n",
       "      (dropout): Dropout(p=0.1, inplace=False)\n",
       "    )\n",
       "    (encoder): BertEncoder(\n",
       "      (layer): ModuleList(\n",
       "        (0-11): 12 x BertLayer(\n",
       "          (attention): BertAttention(\n",
       "            (self): BertSdpaSelfAttention(\n",
       "              (query): Linear(in_features=768, out_features=768, bias=True)\n",
       "              (key): Linear(in_features=768, out_features=768, bias=True)\n",
       "              (value): Linear(in_features=768, out_features=768, bias=True)\n",
       "              (dropout): Dropout(p=0.1, inplace=False)\n",
       "            )\n",
       "            (output): BertSelfOutput(\n",
       "              (dense): Linear(in_features=768, out_features=768, bias=True)\n",
       "              (LayerNorm): LayerNorm((768,), eps=1e-12, elementwise_affine=True)\n",
       "              (dropout): Dropout(p=0.1, inplace=False)\n",
       "            )\n",
       "          )\n",
       "          (intermediate): BertIntermediate(\n",
       "            (dense): Linear(in_features=768, out_features=3072, bias=True)\n",
       "            (intermediate_act_fn): GELUActivation()\n",
       "          )\n",
       "          (output): BertOutput(\n",
       "            (dense): Linear(in_features=3072, out_features=768, bias=True)\n",
       "            (LayerNorm): LayerNorm((768,), eps=1e-12, elementwise_affine=True)\n",
       "            (dropout): Dropout(p=0.1, inplace=False)\n",
       "          )\n",
       "        )\n",
       "      )\n",
       "    )\n",
       "    (pooler): BertPooler(\n",
       "      (dense): Linear(in_features=768, out_features=768, bias=True)\n",
       "      (activation): Tanh()\n",
       "    )\n",
       "  )\n",
       "  (dropout): Dropout(p=0.1, inplace=False)\n",
       "  (classifier): Linear(in_features=768, out_features=349, bias=True)\n",
       ")"
      ]
     },
     "execution_count": 6,
     "metadata": {},
     "output_type": "execute_result"
    }
   ],
   "source": [
    "device = torch.device('cuda' if torch.cuda.is_available() else 'cpu')\n",
    "model.to(device)"
   ]
  },
  {
   "cell_type": "code",
   "execution_count": 12,
   "id": "a5335430-30c5-47c9-a798-a080d55c8e61",
   "metadata": {},
   "outputs": [],
   "source": [
    "def tokenize_function(description, tokenizer, max_length=512):\n",
    "    return tokenizer(description.tolist(), padding='max_length', truncation=True, max_length=max_length)"
   ]
  },
  {
   "cell_type": "code",
   "execution_count": 13,
   "id": "b7363532-9902-4416-a642-7a049303bc7f",
   "metadata": {},
   "outputs": [],
   "source": [
    "from sklearn.model_selection import train_test_split\n",
    "\n",
    "X = df['description']\n",
    "y = df['class']\n",
    "X_train, X_test, y_train, y_test = train_test_split(X, y, test_size=0.2, random_state=42)\n",
    "\n",
    "X_train = X_train.reset_index(drop=True)\n",
    "X_test = X_test.reset_index(drop=True)\n",
    "y_train = y_train.reset_index(drop=True)\n",
    "y_test = y_test.reset_index(drop=True)"
   ]
  },
  {
   "cell_type": "code",
   "execution_count": 14,
   "id": "4585eb6d-a020-4f90-ab14-bc7017dfc762",
   "metadata": {},
   "outputs": [],
   "source": [
    "df = df.dropna(subset=['description'])"
   ]
  },
  {
   "cell_type": "code",
   "execution_count": 15,
   "id": "fd122002-7734-4f4e-94e9-0cad22123a62",
   "metadata": {},
   "outputs": [],
   "source": [
    "train_encodings = tokenize_function(X_train, tokenizer)\n",
    "test_encodings = tokenize_function(X_test, tokenizer)"
   ]
  },
  {
   "cell_type": "code",
   "execution_count": 16,
   "id": "ebb9ecd1-f2ab-451a-a929-5e6cc66b76aa",
   "metadata": {},
   "outputs": [],
   "source": [
    "train_labels = torch.tensor(y_train.values)\n",
    "test_labels = torch.tensor(y_test.values)"
   ]
  },
  {
   "cell_type": "code",
   "execution_count": 17,
   "id": "9f0dda69-cc6a-4fa4-8077-0c0f0d7cf4df",
   "metadata": {},
   "outputs": [],
   "source": [
    "from torch.utils.data import Dataset, DataLoader\n",
    "\n",
    "class JobDataset(Dataset):\n",
    "    def __init__(self, encodings, labels):\n",
    "        self.encodings = encodings\n",
    "        self.labels = labels\n",
    "\n",
    "    def __getitem__(self, idx):\n",
    "        item = {key: torch.tensor(val[idx]) for key, val in self.encodings.items()}\n",
    "        item['labels'] = torch.tensor(self.labels[idx])\n",
    "        return item\n",
    "\n",
    "    def __len__(self):\n",
    "        return len(self.labels)\n",
    "\n",
    "train_dataset = JobDataset(train_encodings, y_train)\n",
    "test_dataset = JobDataset(test_encodings, y_test)\n",
    "\n",
    "train_loader = DataLoader(train_dataset, batch_size=8, shuffle=True)\n",
    "test_loader = DataLoader(test_dataset, batch_size=8, shuffle=False)"
   ]
  },
  {
   "cell_type": "code",
   "execution_count": 18,
   "id": "269fabf9-b6cb-47b9-a7e7-d6e9176ff2e3",
   "metadata": {},
   "outputs": [],
   "source": [
    "from torch.optim import AdamW"
   ]
  },
  {
   "cell_type": "code",
   "execution_count": 19,
   "id": "b88f7be4-90dd-48ad-a8b8-7e41a8113808",
   "metadata": {},
   "outputs": [],
   "source": [
    "optimizer = AdamW(model.parameters(), lr=2e-5)"
   ]
  },
  {
   "cell_type": "code",
   "execution_count": 20,
   "id": "e522e768-3b9d-4fc4-ba74-0a524cd9d37c",
   "metadata": {},
   "outputs": [],
   "source": [
    "def save_checkpoint(model, optimizer, epoch, path=\"checkpoint.pth\"):\n",
    "    checkpoint = {\n",
    "        'model_state_dict': model.state_dict(),\n",
    "        'optimizer_state_dict': optimizer.state_dict(),\n",
    "        'epoch': epoch\n",
    "    }\n",
    "    torch.save(checkpoint, path)\n",
    "    print(f\"Сохранен snapshot на эпохе {epoch} в {path}\")"
   ]
  },
  {
   "cell_type": "code",
   "execution_count": 21,
   "id": "a31bf352-4d34-49eb-8875-76fb4133caa9",
   "metadata": {},
   "outputs": [],
   "source": [
    "def load_checkpoint(path, model, optimizer):\n",
    "    checkpoint = torch.load(path)\n",
    "    model.load_state_dict(checkpoint['model_state_dict'])\n",
    "    optimizer.load_state_dict(checkpoint['optimizer_state_dict'])\n",
    "    epoch = checkpoint['epoch']\n",
    "    print(f\"Загружен snapshot с {epoch}-й эпохи\")\n",
    "    return epoch"
   ]
  },
  {
   "cell_type": "code",
   "execution_count": 24,
   "id": "64a90ce9-9e96-403e-8595-c3aff75259d5",
   "metadata": {},
   "outputs": [],
   "source": [
    "from tqdm import tqdm\n",
    "\n",
    "def train_model(model, train_loader, test_loader, optimizer, device, num_epochs=10, gradient_accumulation_steps=4, save_path=\"checkpoint.pth\"):\n",
    "    train_losses = []\n",
    "    val_losses = []\n",
    "\n",
    "    for epoch in range(num_epochs):\n",
    "        model.train()\n",
    "        total_train_loss = 0\n",
    "        optimizer.zero_grad()  \n",
    "\n",
    "        train_loader_tqdm = tqdm(train_loader, desc=f\"Эпоха {epoch+1}/{num_epochs} - Тренировка\", leave=False)\n",
    "\n",
    "        for step, batch in enumerate(train_loader_tqdm):\n",
    "            input_ids = batch['input_ids'].to(device)\n",
    "            attention_mask = batch['attention_mask'].to(device)\n",
    "            labels = batch['labels'].to(device)\n",
    "\n",
    "            outputs = model(input_ids=input_ids, attention_mask=attention_mask, labels=labels)\n",
    "            loss = outputs.loss\n",
    "            loss = loss / gradient_accumulation_steps  \n",
    "            total_train_loss += loss.item()\n",
    "\n",
    "            loss.backward()\n",
    "\n",
    "            if (step + 1) % gradient_accumulation_steps == 0:\n",
    "                optimizer.step()\n",
    "                optimizer.zero_grad()  \n",
    "\n",
    "        avg_train_loss = total_train_loss / len(train_loader)\n",
    "        train_losses.append(avg_train_loss)\n",
    "\n",
    "        model.eval()\n",
    "        total_val_loss = 0\n",
    "\n",
    "        test_loader_tqdm = tqdm(test_loader, desc=f\"Эпоха {epoch+1}/{num_epochs} - Валидация\", leave=False)\n",
    "        with torch.no_grad():\n",
    "            for batch in test_loader_tqdm:\n",
    "                input_ids = batch['input_ids'].to(device)\n",
    "                attention_mask = batch['attention_mask'].to(device)\n",
    "                labels = batch['labels'].to(device)\n",
    "\n",
    "                outputs = model(input_ids=input_ids, attention_mask=attention_mask, labels=labels)\n",
    "                loss = outputs.loss\n",
    "                total_val_loss += loss.item()\n",
    "\n",
    "        avg_val_loss = total_val_loss / len(test_loader)\n",
    "        val_losses.append(avg_val_loss)\n",
    "\n",
    "        print(f\"Эпоха {epoch+1}/{num_epochs} | Тренировочная потеря: {avg_train_loss:.4f} | Валид потеря: {avg_val_loss:.4f}\")\n",
    "        \n",
    "        save_checkpoint(model, optimizer, epoch+1, path=f\"{save_path}_epoch_{epoch+1}.pth\")\n",
    "\n",
    "    return train_losses, val_losses"
   ]
  },
  {
   "cell_type": "code",
   "execution_count": null,
   "id": "c064e687-f0ea-442c-b438-3d5b35356e9c",
   "metadata": {},
   "outputs": [
    {
     "name": "stderr",
     "output_type": "stream",
     "text": [
      "                                                                              \r"
     ]
    },
    {
     "name": "stdout",
     "output_type": "stream",
     "text": [
      "Эпоха 1/10 | Тренировочная потеря: 0.3550 | Валид потеря: 1.2152\n",
      "Сохранен snapshot на эпохе 1 в checkpoint.pth_epoch_1.pth\n"
     ]
    },
    {
     "name": "stderr",
     "output_type": "stream",
     "text": [
      "                                                                              \r"
     ]
    },
    {
     "name": "stdout",
     "output_type": "stream",
     "text": [
      "Эпоха 2/10 | Тренировочная потеря: 0.2205 | Валид потеря: 0.8810\n",
      "Сохранен snapshot на эпохе 2 в checkpoint.pth_epoch_2.pth\n"
     ]
    },
    {
     "name": "stderr",
     "output_type": "stream",
     "text": [
      "                                                                              \r"
     ]
    },
    {
     "name": "stdout",
     "output_type": "stream",
     "text": [
      "Эпоха 3/10 | Тренировочная потеря: 0.1517 | Валид потеря: 0.7754\n",
      "Сохранен snapshot на эпохе 3 в checkpoint.pth_epoch_3.pth\n"
     ]
    },
    {
     "name": "stderr",
     "output_type": "stream",
     "text": [
      "                                                                              \r"
     ]
    },
    {
     "name": "stdout",
     "output_type": "stream",
     "text": [
      "Эпоха 4/10 | Тренировочная потеря: 0.1199 | Валид потеря: 0.7486\n",
      "Сохранен snapshot на эпохе 4 в checkpoint.pth_epoch_4.pth\n"
     ]
    },
    {
     "name": "stderr",
     "output_type": "stream",
     "text": [
      "                                                                              \r"
     ]
    },
    {
     "name": "stdout",
     "output_type": "stream",
     "text": [
      "Эпоха 5/10 | Тренировочная потеря: 0.1016 | Валид потеря: 0.7253\n",
      "Сохранен snapshot на эпохе 5 в checkpoint.pth_epoch_5.pth\n"
     ]
    },
    {
     "name": "stderr",
     "output_type": "stream",
     "text": [
      "                                                                              \r"
     ]
    },
    {
     "name": "stdout",
     "output_type": "stream",
     "text": [
      "Эпоха 6/10 | Тренировочная потеря: 0.0893 | Валид потеря: 0.7220\n",
      "Сохранен snapshot на эпохе 6 в checkpoint.pth_epoch_6.pth\n"
     ]
    },
    {
     "name": "stderr",
     "output_type": "stream",
     "text": [
      "                                                                              \r"
     ]
    },
    {
     "name": "stdout",
     "output_type": "stream",
     "text": [
      "Эпоха 7/10 | Тренировочная потеря: 0.0812 | Валид потеря: 0.7230\n",
      "Сохранен snapshot на эпохе 7 в checkpoint.pth_epoch_7.pth\n"
     ]
    },
    {
     "name": "stderr",
     "output_type": "stream",
     "text": [
      "                                                                              \r"
     ]
    },
    {
     "name": "stdout",
     "output_type": "stream",
     "text": [
      "Эпоха 8/10 | Тренировочная потеря: 0.0753 | Валид потеря: 0.7127\n",
      "Сохранен snapshot на эпохе 8 в checkpoint.pth_epoch_8.pth\n"
     ]
    },
    {
     "name": "stderr",
     "output_type": "stream",
     "text": [
      "Эпоха 9/10 - Тренировка:  86%|████████▋ | 6009/6948 [1:05:59<10:28,  1.50it/s]"
     ]
    }
   ],
   "source": [
    "train_losses, val_losses = train_model(model, train_loader, test_loader, optimizer, device)"
   ]
  },
  {
   "cell_type": "code",
   "execution_count": null,
   "id": "bf50b5e0-e283-4382-8780-aac87c376fd9",
   "metadata": {},
   "outputs": [
    {
     "name": "stderr",
     "output_type": "stream",
     "text": [
      "/tmp/ipykernel_7747/2814753524.py:2: FutureWarning: You are using `torch.load` with `weights_only=False` (the current default value), which uses the default pickle module implicitly. It is possible to construct malicious pickle data which will execute arbitrary code during unpickling (See https://github.com/pytorch/pytorch/blob/main/SECURITY.md#untrusted-models for more details). In a future release, the default value for `weights_only` will be flipped to `True`. This limits the functions that could be executed during unpickling. Arbitrary objects will no longer be allowed to be loaded via this mode unless they are explicitly allowlisted by the user via `torch.serialization.add_safe_globals`. We recommend you start setting `weights_only=True` for any use case where you don't have full control of the loaded file. Please open an issue on GitHub for any issues related to this experimental feature.\n",
      "  checkpoint = torch.load(path)\n"
     ]
    },
    {
     "name": "stdout",
     "output_type": "stream",
     "text": [
      "Загружен snapshot с 9-й эпохи\n"
     ]
    },
    {
     "name": "stderr",
     "output_type": "stream",
     "text": [
      "Эпоха 1/11 - Тренировка:  92%|█████████▏| 6390/6948 [1:10:18<06:09,  1.51it/s]"
     ]
    }
   ],
   "source": [
    "start_epoch = load_checkpoint(model_path, model, optimizer)\n",
    "\n",
    "additional_epochs = 2\n",
    "total_epochs = start_epoch + additional_epochs\n",
    "\n",
    "train_losses, val_losses = train_model(\n",
    "    model,\n",
    "    train_loader,\n",
    "    test_loader,\n",
    "    optimizer,\n",
    "    device,\n",
    "    num_epochs=total_epochs,\n",
    "    save_path=\"checkpoint10.pth\"\n",
    ")\n"
   ]
  },
  {
   "cell_type": "code",
   "execution_count": 132,
   "id": "6b51ba4b-3fc1-45e7-b305-a95ff81069c2",
   "metadata": {},
   "outputs": [],
   "source": [
    "model_path = 'checkpoint.pth_epoch_9.pth'"
   ]
  },
  {
   "cell_type": "code",
   "execution_count": 133,
   "id": "5fcd9204-428f-405f-9cfa-39c178040e6f",
   "metadata": {},
   "outputs": [],
   "source": [
    "from sklearn.metrics import accuracy_score, precision_score, recall_score, f1_score\n",
    "\n",
    "def evaluate_model(model, test_loader, device):\n",
    "    model.eval()\n",
    "    all_labels = []\n",
    "    all_predictions = []\n",
    "\n",
    "    with torch.no_grad():\n",
    "        for batch in test_loader:\n",
    "            input_ids = batch['input_ids'].to(device)\n",
    "            attention_mask = batch['attention_mask'].to(device)\n",
    "            labels = batch['labels'].to(device)\n",
    "\n",
    "            outputs = model(input_ids=input_ids, attention_mask=attention_mask)\n",
    "            predictions = torch.argmax(outputs.logits, dim=-1)\n",
    "\n",
    "            all_labels.extend(labels.cpu().numpy())\n",
    "            all_predictions.extend(predictions.cpu().numpy())\n",
    "\n",
    "    accuracy = accuracy_score(all_labels, all_predictions)\n",
    "    precision = precision_score(all_labels, all_predictions, average='weighted')  \n",
    "    recall = recall_score(all_labels, all_predictions, average='weighted')       \n",
    "    f1 = f1_score(all_labels, all_predictions, average='weighted')                \n",
    "\n",
    "    print(f'Accuracy: {accuracy:.4f}')\n",
    "    print(f'Precision: {precision:.4f}')\n",
    "    print(f'Recall: {recall:.4f}')\n",
    "    print(f'F1-score: {f1:.4f}')\n",
    "\n"
   ]
  },
  {
   "cell_type": "code",
   "execution_count": 134,
   "id": "185a0b7a-3dd8-4963-ace0-c4a8ee9169c3",
   "metadata": {},
   "outputs": [
    {
     "name": "stdout",
     "output_type": "stream",
     "text": [
      "Accuracy: 0.7996\n",
      "Precision: 0.8039\n",
      "Recall: 0.7996\n",
      "F1-score: 0.7942\n"
     ]
    },
    {
     "name": "stderr",
     "output_type": "stream",
     "text": [
      "/opt/jupyterhub/lib/python3.10/site-packages/sklearn/metrics/_classification.py:1318: UndefinedMetricWarning: Precision is ill-defined and being set to 0.0 in labels with no predicted samples. Use `zero_division` parameter to control this behavior.\n",
      "  _warn_prf(average, modifier, msg_start, len(result))\n"
     ]
    }
   ],
   "source": [
    "evaluate_model(model, test_loader, device)"
   ]
  },
  {
   "cell_type": "code",
   "execution_count": 79,
   "id": "e9bc0ac9-27d2-4dfd-b362-5192359693f5",
   "metadata": {},
   "outputs": [],
   "source": [
    "df_test = pd.read_excel('dataset/45k_test.xlsx')"
   ]
  },
  {
   "cell_type": "code",
   "execution_count": 80,
   "id": "df596fa4-ce75-4270-b60a-0eff5e950ac7",
   "metadata": {},
   "outputs": [
    {
     "data": {
      "text/html": [
       "<div>\n",
       "<style scoped>\n",
       "    .dataframe tbody tr th:only-of-type {\n",
       "        vertical-align: middle;\n",
       "    }\n",
       "\n",
       "    .dataframe tbody tr th {\n",
       "        vertical-align: top;\n",
       "    }\n",
       "\n",
       "    .dataframe thead th {\n",
       "        text-align: right;\n",
       "    }\n",
       "</style>\n",
       "<table border=\"1\" class=\"dataframe\">\n",
       "  <thead>\n",
       "    <tr style=\"text-align: right;\">\n",
       "      <th></th>\n",
       "      <th>id</th>\n",
       "      <th>name</th>\n",
       "      <th>description</th>\n",
       "      <th>date</th>\n",
       "      <th>to_be_classified</th>\n",
       "      <th>nkz_id</th>\n",
       "      <th>profession_id</th>\n",
       "    </tr>\n",
       "  </thead>\n",
       "  <tbody>\n",
       "    <tr>\n",
       "      <th>0</th>\n",
       "      <td>12308</td>\n",
       "      <td>Преподаватель-учитель Турецкого языка</td>\n",
       "      <td>&lt;p&gt;&lt;strong&gt;О нас: Образовательный центр ZEYN Q...</td>\n",
       "      <td>2023-11-09</td>\n",
       "      <td>True</td>\n",
       "      <td>NaN</td>\n",
       "      <td>NaN</td>\n",
       "    </tr>\n",
       "    <tr>\n",
       "      <th>1</th>\n",
       "      <td>12443</td>\n",
       "      <td>Ассистент Декана (Высшая школа образования)</td>\n",
       "      <td>&lt;ol&gt; &lt;li&gt;содействие в планировании рабочего дн...</td>\n",
       "      <td>2023-10-24</td>\n",
       "      <td>True</td>\n",
       "      <td>NaN</td>\n",
       "      <td>NaN</td>\n",
       "    </tr>\n",
       "    <tr>\n",
       "      <th>2</th>\n",
       "      <td>12318</td>\n",
       "      <td>Администратор</td>\n",
       "      <td>Обязанности: работа с пациентами, консультация...</td>\n",
       "      <td>2023-10-22</td>\n",
       "      <td>False</td>\n",
       "      <td>NaN</td>\n",
       "      <td>NaN</td>\n",
       "    </tr>\n",
       "    <tr>\n",
       "      <th>3</th>\n",
       "      <td>451830</td>\n",
       "      <td>Администратор торгового зала в автосалон</td>\n",
       "      <td>&lt;p&gt;&lt;strong&gt;ASTER &lt;/strong&gt;- первый автосуперма...</td>\n",
       "      <td>2023-05-24</td>\n",
       "      <td>False</td>\n",
       "      <td>NaN</td>\n",
       "      <td>NaN</td>\n",
       "    </tr>\n",
       "    <tr>\n",
       "      <th>4</th>\n",
       "      <td>12333</td>\n",
       "      <td>Администратор магазина</td>\n",
       "      <td>&lt;p&gt;Fix Price - международная сеть магазинов дл...</td>\n",
       "      <td>2023-11-22</td>\n",
       "      <td>False</td>\n",
       "      <td>NaN</td>\n",
       "      <td>NaN</td>\n",
       "    </tr>\n",
       "    <tr>\n",
       "      <th>...</th>\n",
       "      <td>...</td>\n",
       "      <td>...</td>\n",
       "      <td>...</td>\n",
       "      <td>...</td>\n",
       "      <td>...</td>\n",
       "      <td>...</td>\n",
       "      <td>...</td>\n",
       "    </tr>\n",
       "    <tr>\n",
       "      <th>45736</th>\n",
       "      <td>2717672</td>\n",
       "      <td>Преподаватель корейского языка</td>\n",
       "      <td>&lt;p&gt;&lt;strong&gt;Обязанности:&lt;/strong&gt;&lt;/p&gt;&lt;p&gt;Обучени...</td>\n",
       "      <td>2024-03-22</td>\n",
       "      <td>True</td>\n",
       "      <td>NaN</td>\n",
       "      <td>NaN</td>\n",
       "    </tr>\n",
       "    <tr>\n",
       "      <th>45737</th>\n",
       "      <td>2717706</td>\n",
       "      <td>Оператор интернет-магазина</td>\n",
       "      <td>&lt;p&gt;&lt;b&gt;&lt;b&gt;Обязанности:&lt;/b&gt;&lt;/b&gt;&lt;/p&gt;&lt;p&gt;&lt;b&gt;• Прием...</td>\n",
       "      <td>2024-03-21</td>\n",
       "      <td>True</td>\n",
       "      <td>NaN</td>\n",
       "      <td>NaN</td>\n",
       "    </tr>\n",
       "    <tr>\n",
       "      <th>45738</th>\n",
       "      <td>2717712</td>\n",
       "      <td>Администратор в Lounge bar</td>\n",
       "      <td>&lt;p&gt;&lt;em&gt;Приветствуем всех кандидатов , ищем в н...</td>\n",
       "      <td>2024-03-21</td>\n",
       "      <td>False</td>\n",
       "      <td>NaN</td>\n",
       "      <td>NaN</td>\n",
       "    </tr>\n",
       "    <tr>\n",
       "      <th>45739</th>\n",
       "      <td>2717729</td>\n",
       "      <td>Администратор учебного центра</td>\n",
       "      <td>&lt;p&gt;В PREP School мы помогаем подтянуть уровень...</td>\n",
       "      <td>2024-03-21</td>\n",
       "      <td>False</td>\n",
       "      <td>NaN</td>\n",
       "      <td>NaN</td>\n",
       "    </tr>\n",
       "    <tr>\n",
       "      <th>45740</th>\n",
       "      <td>2717778</td>\n",
       "      <td>Администратор салона красоты</td>\n",
       "      <td>&lt;p&gt;&lt;strong&gt;Обязанности:&lt;/strong&gt;&lt;/p&gt; &lt;ul&gt; &lt;li&gt;...</td>\n",
       "      <td>2024-03-21</td>\n",
       "      <td>False</td>\n",
       "      <td>NaN</td>\n",
       "      <td>NaN</td>\n",
       "    </tr>\n",
       "  </tbody>\n",
       "</table>\n",
       "<p>45741 rows × 7 columns</p>\n",
       "</div>"
      ],
      "text/plain": [
       "            id                                         name  \\\n",
       "0        12308        Преподаватель-учитель Турецкого языка   \n",
       "1        12443  Ассистент Декана (Высшая школа образования)   \n",
       "2        12318                                Администратор   \n",
       "3       451830     Администратор торгового зала в автосалон   \n",
       "4        12333                       Администратор магазина   \n",
       "...        ...                                          ...   \n",
       "45736  2717672               Преподаватель корейского языка   \n",
       "45737  2717706                   Оператор интернет-магазина   \n",
       "45738  2717712                   Администратор в Lounge bar   \n",
       "45739  2717729                Администратор учебного центра   \n",
       "45740  2717778                 Администратор салона красоты   \n",
       "\n",
       "                                             description        date  \\\n",
       "0      <p><strong>О нас: Образовательный центр ZEYN Q...  2023-11-09   \n",
       "1      <ol> <li>содействие в планировании рабочего дн...  2023-10-24   \n",
       "2      Обязанности: работа с пациентами, консультация...  2023-10-22   \n",
       "3      <p><strong>ASTER </strong>- первый автосуперма...  2023-05-24   \n",
       "4      <p>Fix Price - международная сеть магазинов дл...  2023-11-22   \n",
       "...                                                  ...         ...   \n",
       "45736  <p><strong>Обязанности:</strong></p><p>Обучени...  2024-03-22   \n",
       "45737  <p><b><b>Обязанности:</b></b></p><p><b>• Прием...  2024-03-21   \n",
       "45738  <p><em>Приветствуем всех кандидатов , ищем в н...  2024-03-21   \n",
       "45739  <p>В PREP School мы помогаем подтянуть уровень...  2024-03-21   \n",
       "45740  <p><strong>Обязанности:</strong></p> <ul> <li>...  2024-03-21   \n",
       "\n",
       "       to_be_classified  nkz_id  profession_id  \n",
       "0                  True     NaN            NaN  \n",
       "1                  True     NaN            NaN  \n",
       "2                 False     NaN            NaN  \n",
       "3                 False     NaN            NaN  \n",
       "4                 False     NaN            NaN  \n",
       "...                 ...     ...            ...  \n",
       "45736              True     NaN            NaN  \n",
       "45737              True     NaN            NaN  \n",
       "45738             False     NaN            NaN  \n",
       "45739             False     NaN            NaN  \n",
       "45740             False     NaN            NaN  \n",
       "\n",
       "[45741 rows x 7 columns]"
      ]
     },
     "execution_count": 80,
     "metadata": {},
     "output_type": "execute_result"
    }
   ],
   "source": [
    "df_test"
   ]
  },
  {
   "cell_type": "code",
   "execution_count": 81,
   "id": "d6edefc9-de36-4e76-97c1-a8c4baef4cb8",
   "metadata": {},
   "outputs": [],
   "source": [
    "import nltk\n",
    "from nltk.corpus import stopwords\n",
    "from nltk.tokenize import word_tokenize\n",
    "\n",
    "import re\n",
    "from nltk.tokenize import RegexpTokenizer\n",
    "from bs4 import BeautifulSoup as bs"
   ]
  },
  {
   "cell_type": "code",
   "execution_count": 82,
   "id": "fd6e5c96-8b08-42a4-aa0b-018930d50885",
   "metadata": {},
   "outputs": [],
   "source": [
    "def preprocess(sentence):\n",
    "    soup = bs(sentence, features=\"html.parser\")\n",
    "    sentence = soup.get_text()\n",
    "    soup = bs(sentence, features=\"html.parser\")\n",
    "    sentence = soup.get_text()\n",
    "\n",
    "    sentence = str(sentence)\n",
    "    sentence = sentence.lower()\n",
    "    sentence = sentence.replace('{html}',\"\")\n",
    "    cleanr = re.compile('<.*?>')\n",
    "    cleantext = re.sub(cleanr, '', sentence)\n",
    "    rem_url = re.sub(r'http\\S+', '',cleantext)\n",
    "    rem_num = re.sub('[0-9]+', '', rem_url)\n",
    "    tokenizer = RegexpTokenizer(r'\\w+')\n",
    "    tokens = tokenizer.tokenize(rem_num)\n",
    "    filtered_words = [w for w in tokens if not w in stopwords.words('russian')]\n",
    "\n",
    "    return \" \".join(filtered_words)"
   ]
  },
  {
   "cell_type": "code",
   "execution_count": 83,
   "id": "466a533a-f2af-4355-a651-042d180c31fc",
   "metadata": {},
   "outputs": [],
   "source": [
    "from tqdm.notebook import tqdm\n",
    "tqdm.pandas()"
   ]
  },
  {
   "cell_type": "code",
   "execution_count": 84,
   "id": "e4a2220e-7fa1-467e-a91b-af6a872a0d80",
   "metadata": {
    "scrolled": true
   },
   "outputs": [
    {
     "data": {
      "application/vnd.jupyter.widget-view+json": {
       "model_id": "c0df942cf8ca4501926eed5b8593e43a",
       "version_major": 2,
       "version_minor": 0
      },
      "text/plain": [
       "  0%|          | 0/45741 [00:00<?, ?it/s]"
      ]
     },
     "metadata": {},
     "output_type": "display_data"
    },
    {
     "name": "stderr",
     "output_type": "stream",
     "text": [
      "/tmp/ipykernel_7747/4234330403.py:4: MarkupResemblesLocatorWarning: The input looks more like a filename than markup. You may want to open this file and pass the filehandle into Beautiful Soup.\n",
      "  soup = bs(sentence, features=\"html.parser\")\n",
      "/tmp/ipykernel_7747/4234330403.py:2: MarkupResemblesLocatorWarning: The input looks more like a filename than markup. You may want to open this file and pass the filehandle into Beautiful Soup.\n",
      "  soup = bs(sentence, features=\"html.parser\")\n"
     ]
    }
   ],
   "source": [
    "df_test['description'] = df_test['description'].progress_apply(lambda x: preprocess(x))"
   ]
  },
  {
   "cell_type": "code",
   "execution_count": 106,
   "id": "61fd19e3-e39e-4354-9fc1-ff198bd45ef6",
   "metadata": {},
   "outputs": [],
   "source": [
    "model_path = 'checkpoint.pth_epoch_9.pth'"
   ]
  },
  {
   "cell_type": "code",
   "execution_count": 107,
   "id": "0d8d2146-b3b7-4701-a8ca-9dcb5fccc560",
   "metadata": {},
   "outputs": [
    {
     "name": "stderr",
     "output_type": "stream",
     "text": [
      "/tmp/ipykernel_7747/2814753524.py:2: FutureWarning: You are using `torch.load` with `weights_only=False` (the current default value), which uses the default pickle module implicitly. It is possible to construct malicious pickle data which will execute arbitrary code during unpickling (See https://github.com/pytorch/pytorch/blob/main/SECURITY.md#untrusted-models for more details). In a future release, the default value for `weights_only` will be flipped to `True`. This limits the functions that could be executed during unpickling. Arbitrary objects will no longer be allowed to be loaded via this mode unless they are explicitly allowlisted by the user via `torch.serialization.add_safe_globals`. We recommend you start setting `weights_only=True` for any use case where you don't have full control of the loaded file. Please open an issue on GitHub for any issues related to this experimental feature.\n",
      "  checkpoint = torch.load(path)\n"
     ]
    },
    {
     "name": "stdout",
     "output_type": "stream",
     "text": [
      "Загружен snapshot с 9-й эпохи\n"
     ]
    },
    {
     "name": "stderr",
     "output_type": "stream",
     "text": [
      "Предсказания: 100%|██████████| 2859/2859 [21:06<00:00,  2.26it/s]\n"
     ]
    }
   ],
   "source": [
    "from tqdm import tqdm\n",
    "import torch\n",
    "import torch.nn.functional as F\n",
    "import pandas as pd\n",
    "\n",
    "\n",
    "def tokenize_descriptions(descriptions, tokenizer, max_length=512):\n",
    "    return tokenizer(descriptions.tolist(), padding='max_length', truncation=True, max_length=max_length, return_tensors=\"pt\")\n",
    "\n",
    "encodings = tokenize_descriptions(df_test['description'], tokenizer)\n",
    "\n",
    "class DescriptionDataset(Dataset):\n",
    "    def __init__(self, encodings):\n",
    "        self.encodings = encodings\n",
    "\n",
    "    def __getitem__(self, idx):\n",
    "        item = {key: val[idx] for key, val in self.encodings.items()}\n",
    "        return item\n",
    "\n",
    "    def __len__(self):\n",
    "        return len(self.encodings['input_ids'])\n",
    "\n",
    "description_dataset = DescriptionDataset(encodings)\n",
    "description_loader = DataLoader(description_dataset, batch_size=16, shuffle=False)\n",
    "\n",
    "def predict(model, data_loader, device):\n",
    "    model.eval()\n",
    "    predictions = []\n",
    "    probabilities = []\n",
    "    \n",
    "    with torch.no_grad():\n",
    "        for batch in tqdm(data_loader, desc=\"Предсказания\"):\n",
    "            input_ids = batch['input_ids'].to(device)\n",
    "            attention_mask = batch['attention_mask'].to(device)\n",
    "            \n",
    "            outputs = model(input_ids=input_ids, attention_mask=attention_mask)\n",
    "            logits = outputs.logits\n",
    "            \n",
    "            probs = F.softmax(logits, dim=-1)\n",
    "            \n",
    "            predicted_classes = torch.argmax(probs, dim=-1)\n",
    "            \n",
    "            predictions.extend(predicted_classes.cpu().numpy())\n",
    "            probabilities.extend(probs.cpu().numpy())\n",
    "    \n",
    "    return predictions, probabilities\n",
    "epoch = load_checkpoint(model_path, model, optimizer)\n",
    "predicted_classes, predicted_probabilities = predict(model, description_loader, device)\n",
    "\n",
    "df_test['predicted_class'] = predicted_classes\n",
    "df_test['predicted_probability'] = [max(prob) for prob in predicted_probabilities]"
   ]
  },
  {
   "cell_type": "code",
   "execution_count": 111,
   "id": "c8c6efd3-0697-477b-938a-f8193edd284f",
   "metadata": {},
   "outputs": [],
   "source": [
    "sample = df_test.groupby(['predicted_class']).mean('predicted_probability')"
   ]
  },
  {
   "cell_type": "code",
   "execution_count": 112,
   "id": "4ea6f175-2b7d-4e49-9c68-7ec122197f06",
   "metadata": {},
   "outputs": [],
   "source": [
    "sample.to_excel('test.xlsx')"
   ]
  },
  {
   "cell_type": "code",
   "execution_count": 105,
   "id": "e01275df-84c6-4826-a0fc-f6528846f459",
   "metadata": {},
   "outputs": [
    {
     "data": {
      "text/html": [
       "<div>\n",
       "<style scoped>\n",
       "    .dataframe tbody tr th:only-of-type {\n",
       "        vertical-align: middle;\n",
       "    }\n",
       "\n",
       "    .dataframe tbody tr th {\n",
       "        vertical-align: top;\n",
       "    }\n",
       "\n",
       "    .dataframe thead th {\n",
       "        text-align: right;\n",
       "    }\n",
       "</style>\n",
       "<table border=\"1\" class=\"dataframe\">\n",
       "  <thead>\n",
       "    <tr style=\"text-align: right;\">\n",
       "      <th></th>\n",
       "      <th>id</th>\n",
       "      <th>name</th>\n",
       "      <th>description</th>\n",
       "      <th>date</th>\n",
       "      <th>to_be_classified</th>\n",
       "      <th>nkz_id</th>\n",
       "      <th>profession_id</th>\n",
       "      <th>predicted_class</th>\n",
       "      <th>predicted_probability</th>\n",
       "    </tr>\n",
       "  </thead>\n",
       "  <tbody>\n",
       "  </tbody>\n",
       "</table>\n",
       "</div>"
      ],
      "text/plain": [
       "Empty DataFrame\n",
       "Columns: [id, name, description, date, to_be_classified, nkz_id, profession_id, predicted_class, predicted_probability]\n",
       "Index: []"
      ]
     },
     "execution_count": 105,
     "metadata": {},
     "output_type": "execute_result"
    }
   ],
   "source": [
    "df_test[df_test['predicted_class']==332]"
   ]
  },
  {
   "cell_type": "code",
   "execution_count": 114,
   "id": "907486d3-118d-4277-8fe4-85c818771636",
   "metadata": {},
   "outputs": [
    {
     "data": {
      "text/html": [
       "<div>\n",
       "<style scoped>\n",
       "    .dataframe tbody tr th:only-of-type {\n",
       "        vertical-align: middle;\n",
       "    }\n",
       "\n",
       "    .dataframe tbody tr th {\n",
       "        vertical-align: top;\n",
       "    }\n",
       "\n",
       "    .dataframe thead th {\n",
       "        text-align: right;\n",
       "    }\n",
       "</style>\n",
       "<table border=\"1\" class=\"dataframe\">\n",
       "  <thead>\n",
       "    <tr style=\"text-align: right;\">\n",
       "      <th></th>\n",
       "      <th>id</th>\n",
       "      <th>name</th>\n",
       "      <th>description</th>\n",
       "      <th>date</th>\n",
       "      <th>to_be_classified</th>\n",
       "      <th>nkz_id</th>\n",
       "      <th>profession_id</th>\n",
       "      <th>predicted_class</th>\n",
       "      <th>predicted_probability</th>\n",
       "    </tr>\n",
       "  </thead>\n",
       "  <tbody>\n",
       "    <tr>\n",
       "      <th>40094</th>\n",
       "      <td>1471811</td>\n",
       "      <td>Системный администратор (интернет картография)</td>\n",
       "      <td>обязанности поддержка картографических служб б...</td>\n",
       "      <td>2019-01-15</td>\n",
       "      <td>False</td>\n",
       "      <td>NaN</td>\n",
       "      <td>NaN</td>\n",
       "      <td>311</td>\n",
       "      <td>0.913054</td>\n",
       "    </tr>\n",
       "  </tbody>\n",
       "</table>\n",
       "</div>"
      ],
      "text/plain": [
       "            id                                            name  \\\n",
       "40094  1471811  Системный администратор (интернет картография)   \n",
       "\n",
       "                                             description        date  \\\n",
       "40094  обязанности поддержка картографических служб б...  2019-01-15   \n",
       "\n",
       "       to_be_classified  nkz_id  profession_id  predicted_class  \\\n",
       "40094             False     NaN            NaN              311   \n",
       "\n",
       "       predicted_probability  \n",
       "40094               0.913054  "
      ]
     },
     "execution_count": 114,
     "metadata": {},
     "output_type": "execute_result"
    }
   ],
   "source": [
    "df_test[df_test['predicted_class']==311]"
   ]
  },
  {
   "cell_type": "code",
   "execution_count": 113,
   "id": "8f49b171-e2f5-4845-8dcd-b22553b945f9",
   "metadata": {},
   "outputs": [
    {
     "data": {
      "text/html": [
       "<div>\n",
       "<style scoped>\n",
       "    .dataframe tbody tr th:only-of-type {\n",
       "        vertical-align: middle;\n",
       "    }\n",
       "\n",
       "    .dataframe tbody tr th {\n",
       "        vertical-align: top;\n",
       "    }\n",
       "\n",
       "    .dataframe thead th {\n",
       "        text-align: right;\n",
       "    }\n",
       "</style>\n",
       "<table border=\"1\" class=\"dataframe\">\n",
       "  <thead>\n",
       "    <tr style=\"text-align: right;\">\n",
       "      <th></th>\n",
       "      <th>id</th>\n",
       "      <th>name</th>\n",
       "      <th>description</th>\n",
       "      <th>date</th>\n",
       "      <th>to_be_classified</th>\n",
       "      <th>nkz_id</th>\n",
       "      <th>profession_id</th>\n",
       "      <th>predicted_class</th>\n",
       "      <th>predicted_probability</th>\n",
       "    </tr>\n",
       "  </thead>\n",
       "  <tbody>\n",
       "    <tr>\n",
       "      <th>0</th>\n",
       "      <td>12308</td>\n",
       "      <td>Преподаватель-учитель Турецкого языка</td>\n",
       "      <td>образовательный центр zeyn qoi это место учатс...</td>\n",
       "      <td>2023-11-09</td>\n",
       "      <td>True</td>\n",
       "      <td>NaN</td>\n",
       "      <td>NaN</td>\n",
       "      <td>16</td>\n",
       "      <td>0.171699</td>\n",
       "    </tr>\n",
       "    <tr>\n",
       "      <th>1</th>\n",
       "      <td>12443</td>\n",
       "      <td>Ассистент Декана (Высшая школа образования)</td>\n",
       "      <td>содействие планировании рабочего дня декана ве...</td>\n",
       "      <td>2023-10-24</td>\n",
       "      <td>True</td>\n",
       "      <td>NaN</td>\n",
       "      <td>NaN</td>\n",
       "      <td>137</td>\n",
       "      <td>0.576031</td>\n",
       "    </tr>\n",
       "  </tbody>\n",
       "</table>\n",
       "</div>"
      ],
      "text/plain": [
       "      id                                         name  \\\n",
       "0  12308        Преподаватель-учитель Турецкого языка   \n",
       "1  12443  Ассистент Декана (Высшая школа образования)   \n",
       "\n",
       "                                         description        date  \\\n",
       "0  образовательный центр zeyn qoi это место учатс...  2023-11-09   \n",
       "1  содействие планировании рабочего дня декана ве...  2023-10-24   \n",
       "\n",
       "   to_be_classified  nkz_id  profession_id  predicted_class  \\\n",
       "0              True     NaN            NaN               16   \n",
       "1              True     NaN            NaN              137   \n",
       "\n",
       "   predicted_probability  \n",
       "0               0.171699  \n",
       "1               0.576031  "
      ]
     },
     "execution_count": 113,
     "metadata": {},
     "output_type": "execute_result"
    }
   ],
   "source": [
    "df_test.head(2)"
   ]
  },
  {
   "cell_type": "code",
   "execution_count": 99,
   "id": "56083841-146a-483a-8500-a35a4393bdbf",
   "metadata": {},
   "outputs": [],
   "source": [
    "dfa = pd.read_excel('dataset/df_3_final_realy_really.xlsx')"
   ]
  },
  {
   "cell_type": "code",
   "execution_count": 101,
   "id": "a8242a3b-e560-4f60-afbd-654861b5616d",
   "metadata": {},
   "outputs": [],
   "source": [
    "from sklearn.preprocessing import LabelEncoder\n",
    "encoder = LabelEncoder()\n",
    "dfa['label'] = encoder.fit_transform(dfa['class'])"
   ]
  },
  {
   "cell_type": "code",
   "execution_count": 130,
   "id": "e325cd83-9943-4acd-86a0-5c0270735d72",
   "metadata": {},
   "outputs": [],
   "source": [
    "dfa[dfa['class']==4]"
   ]
  },
  {
   "cell_type": "code",
   "execution_count": 131,
   "id": "a4441ef6-d344-4c56-bc3b-2350bdb819f3",
   "metadata": {},
   "outputs": [
    {
     "data": {
      "text/html": [
       "<div>\n",
       "<style scoped>\n",
       "    .dataframe tbody tr th:only-of-type {\n",
       "        vertical-align: middle;\n",
       "    }\n",
       "\n",
       "    .dataframe tbody tr th {\n",
       "        vertical-align: top;\n",
       "    }\n",
       "\n",
       "    .dataframe thead th {\n",
       "        text-align: right;\n",
       "    }\n",
       "</style>\n",
       "<table border=\"1\" class=\"dataframe\">\n",
       "  <thead>\n",
       "    <tr style=\"text-align: right;\">\n",
       "      <th></th>\n",
       "      <th>Unnamed: 0.6</th>\n",
       "      <th>Unnamed: 0.5</th>\n",
       "      <th>Unnamed: 0.2</th>\n",
       "      <th>Unnamed: 0</th>\n",
       "      <th>name</th>\n",
       "      <th>description</th>\n",
       "      <th>class</th>\n",
       "      <th>id</th>\n",
       "      <th>Unnamed: 0.1</th>\n",
       "      <th>Unnamed: 0.3</th>\n",
       "      <th>Unnamed: 0.4</th>\n",
       "      <th>label</th>\n",
       "    </tr>\n",
       "  </thead>\n",
       "  <tbody>\n",
       "    <tr>\n",
       "      <th>37017</th>\n",
       "      <td>38594.0</td>\n",
       "      <td>43518.0</td>\n",
       "      <td>31699.0</td>\n",
       "      <td>32985.0</td>\n",
       "      <td>Юрист юридической службы группы компаний</td>\n",
       "      <td>группа компаний dolce это холдинговая структур...</td>\n",
       "      <td>297</td>\n",
       "      <td>100080</td>\n",
       "      <td>NaN</td>\n",
       "      <td>NaN</td>\n",
       "      <td>NaN</td>\n",
       "      <td>247</td>\n",
       "    </tr>\n",
       "    <tr>\n",
       "      <th>37018</th>\n",
       "      <td>38595.0</td>\n",
       "      <td>43519.0</td>\n",
       "      <td>31700.0</td>\n",
       "      <td>32986.0</td>\n",
       "      <td>Ведущий юрист в Банк</td>\n",
       "      <td>обязанности юридическое курирование вопросов ф...</td>\n",
       "      <td>297</td>\n",
       "      <td>100151</td>\n",
       "      <td>NaN</td>\n",
       "      <td>NaN</td>\n",
       "      <td>NaN</td>\n",
       "      <td>247</td>\n",
       "    </tr>\n",
       "    <tr>\n",
       "      <th>37019</th>\n",
       "      <td>38596.0</td>\n",
       "      <td>43520.0</td>\n",
       "      <td>31701.0</td>\n",
       "      <td>32987.0</td>\n",
       "      <td>Юрист по разработке проектов НПА</td>\n",
       "      <td>важный социально экологический проект временно...</td>\n",
       "      <td>297</td>\n",
       "      <td>100583</td>\n",
       "      <td>NaN</td>\n",
       "      <td>NaN</td>\n",
       "      <td>NaN</td>\n",
       "      <td>247</td>\n",
       "    </tr>\n",
       "    <tr>\n",
       "      <th>37020</th>\n",
       "      <td>38597.0</td>\n",
       "      <td>43521.0</td>\n",
       "      <td>31702.0</td>\n",
       "      <td>32988.0</td>\n",
       "      <td>Помощник юриста со знанием английского языка</td>\n",
       "      <td>требуемый опыт работы опыта полная занятость п...</td>\n",
       "      <td>297</td>\n",
       "      <td>100670</td>\n",
       "      <td>NaN</td>\n",
       "      <td>NaN</td>\n",
       "      <td>NaN</td>\n",
       "      <td>247</td>\n",
       "    </tr>\n",
       "    <tr>\n",
       "      <th>37021</th>\n",
       "      <td>38598.0</td>\n",
       "      <td>43522.0</td>\n",
       "      <td>31703.0</td>\n",
       "      <td>32989.0</td>\n",
       "      <td>Помощник старшего юриста</td>\n",
       "      <td>обязанности поиск юридической информации темат...</td>\n",
       "      <td>297</td>\n",
       "      <td>100678</td>\n",
       "      <td>NaN</td>\n",
       "      <td>NaN</td>\n",
       "      <td>NaN</td>\n",
       "      <td>247</td>\n",
       "    </tr>\n",
       "    <tr>\n",
       "      <th>...</th>\n",
       "      <td>...</td>\n",
       "      <td>...</td>\n",
       "      <td>...</td>\n",
       "      <td>...</td>\n",
       "      <td>...</td>\n",
       "      <td>...</td>\n",
       "      <td>...</td>\n",
       "      <td>...</td>\n",
       "      <td>...</td>\n",
       "      <td>...</td>\n",
       "      <td>...</td>\n",
       "      <td>...</td>\n",
       "    </tr>\n",
       "    <tr>\n",
       "      <th>37209</th>\n",
       "      <td>38786.0</td>\n",
       "      <td>43710.0</td>\n",
       "      <td>31891.0</td>\n",
       "      <td>33180.0</td>\n",
       "      <td>Юрист в строительную компанию</td>\n",
       "      <td>обязанности заключение договоров подрядчиками ...</td>\n",
       "      <td>297</td>\n",
       "      <td>10500</td>\n",
       "      <td>NaN</td>\n",
       "      <td>NaN</td>\n",
       "      <td>NaN</td>\n",
       "      <td>247</td>\n",
       "    </tr>\n",
       "    <tr>\n",
       "      <th>37210</th>\n",
       "      <td>38787.0</td>\n",
       "      <td>43711.0</td>\n",
       "      <td>31892.0</td>\n",
       "      <td>33181.0</td>\n",
       "      <td>Юрист в строительную компанию</td>\n",
       "      <td>обязанности работа местными государственными о...</td>\n",
       "      <td>297</td>\n",
       "      <td>10500</td>\n",
       "      <td>NaN</td>\n",
       "      <td>NaN</td>\n",
       "      <td>NaN</td>\n",
       "      <td>247</td>\n",
       "    </tr>\n",
       "    <tr>\n",
       "      <th>37211</th>\n",
       "      <td>38788.0</td>\n",
       "      <td>43712.0</td>\n",
       "      <td>31893.0</td>\n",
       "      <td>33182.0</td>\n",
       "      <td>Юрист в строительную компанию</td>\n",
       "      <td>обязанности составлять договора аренды купли п...</td>\n",
       "      <td>297</td>\n",
       "      <td>10500</td>\n",
       "      <td>NaN</td>\n",
       "      <td>NaN</td>\n",
       "      <td>NaN</td>\n",
       "      <td>247</td>\n",
       "    </tr>\n",
       "    <tr>\n",
       "      <th>37212</th>\n",
       "      <td>38789.0</td>\n",
       "      <td>43713.0</td>\n",
       "      <td>31894.0</td>\n",
       "      <td>33183.0</td>\n",
       "      <td>Юрист в строительную компанию</td>\n",
       "      <td>работа успешной турецкой компании цели должнос...</td>\n",
       "      <td>297</td>\n",
       "      <td>10500</td>\n",
       "      <td>NaN</td>\n",
       "      <td>NaN</td>\n",
       "      <td>NaN</td>\n",
       "      <td>247</td>\n",
       "    </tr>\n",
       "    <tr>\n",
       "      <th>37213</th>\n",
       "      <td>38790.0</td>\n",
       "      <td>43714.0</td>\n",
       "      <td>31895.0</td>\n",
       "      <td>33184.0</td>\n",
       "      <td>Юрист в строительную компанию</td>\n",
       "      <td>обязанности полное юридическое сопровождение с...</td>\n",
       "      <td>297</td>\n",
       "      <td>10500</td>\n",
       "      <td>NaN</td>\n",
       "      <td>NaN</td>\n",
       "      <td>NaN</td>\n",
       "      <td>247</td>\n",
       "    </tr>\n",
       "  </tbody>\n",
       "</table>\n",
       "<p>197 rows × 12 columns</p>\n",
       "</div>"
      ],
      "text/plain": [
       "       Unnamed: 0.6  Unnamed: 0.5  Unnamed: 0.2  Unnamed: 0  \\\n",
       "37017       38594.0       43518.0       31699.0     32985.0   \n",
       "37018       38595.0       43519.0       31700.0     32986.0   \n",
       "37019       38596.0       43520.0       31701.0     32987.0   \n",
       "37020       38597.0       43521.0       31702.0     32988.0   \n",
       "37021       38598.0       43522.0       31703.0     32989.0   \n",
       "...             ...           ...           ...         ...   \n",
       "37209       38786.0       43710.0       31891.0     33180.0   \n",
       "37210       38787.0       43711.0       31892.0     33181.0   \n",
       "37211       38788.0       43712.0       31893.0     33182.0   \n",
       "37212       38789.0       43713.0       31894.0     33183.0   \n",
       "37213       38790.0       43714.0       31895.0     33184.0   \n",
       "\n",
       "                                               name  \\\n",
       "37017      Юрист юридической службы группы компаний   \n",
       "37018                          Ведущий юрист в Банк   \n",
       "37019              Юрист по разработке проектов НПА   \n",
       "37020  Помощник юриста со знанием английского языка   \n",
       "37021                      Помощник старшего юриста   \n",
       "...                                             ...   \n",
       "37209                 Юрист в строительную компанию   \n",
       "37210                 Юрист в строительную компанию   \n",
       "37211                 Юрист в строительную компанию   \n",
       "37212                 Юрист в строительную компанию   \n",
       "37213                 Юрист в строительную компанию   \n",
       "\n",
       "                                             description  class      id  \\\n",
       "37017  группа компаний dolce это холдинговая структур...    297  100080   \n",
       "37018  обязанности юридическое курирование вопросов ф...    297  100151   \n",
       "37019  важный социально экологический проект временно...    297  100583   \n",
       "37020  требуемый опыт работы опыта полная занятость п...    297  100670   \n",
       "37021  обязанности поиск юридической информации темат...    297  100678   \n",
       "...                                                  ...    ...     ...   \n",
       "37209  обязанности заключение договоров подрядчиками ...    297   10500   \n",
       "37210  обязанности работа местными государственными о...    297   10500   \n",
       "37211  обязанности составлять договора аренды купли п...    297   10500   \n",
       "37212  работа успешной турецкой компании цели должнос...    297   10500   \n",
       "37213  обязанности полное юридическое сопровождение с...    297   10500   \n",
       "\n",
       "       Unnamed: 0.1  Unnamed: 0.3  Unnamed: 0.4  label  \n",
       "37017           NaN           NaN           NaN    247  \n",
       "37018           NaN           NaN           NaN    247  \n",
       "37019           NaN           NaN           NaN    247  \n",
       "37020           NaN           NaN           NaN    247  \n",
       "37021           NaN           NaN           NaN    247  \n",
       "...             ...           ...           ...    ...  \n",
       "37209           NaN           NaN           NaN    247  \n",
       "37210           NaN           NaN           NaN    247  \n",
       "37211           NaN           NaN           NaN    247  \n",
       "37212           NaN           NaN           NaN    247  \n",
       "37213           NaN           NaN           NaN    247  \n",
       "\n",
       "[197 rows x 12 columns]"
      ]
     },
     "execution_count": 131,
     "metadata": {},
     "output_type": "execute_result"
    }
   ],
   "source": [
    "dfa[dfa['label']==247]"
   ]
  },
  {
   "cell_type": "code",
   "execution_count": null,
   "id": "19827099-a6e4-4cd8-bf1d-d80eaf0d1757",
   "metadata": {},
   "outputs": [],
   "source": [
    "from huggingface_hub import upload_file\n",
    "\n",
    "upload_file(\n",
    "    \"<path_to_file>/config.json\",\n",
    "    path_in_repo=\"config.json\",\n",
    "    repo_id=\"<namespace>/dummy-model\",\n",
    ")"
   ]
  }
 ],
 "metadata": {
  "kernelspec": {
   "display_name": "Python 3 (ipykernel)",
   "language": "python",
   "name": "python3"
  },
  "language_info": {
   "codemirror_mode": {
    "name": "ipython",
    "version": 3
   },
   "file_extension": ".py",
   "mimetype": "text/x-python",
   "name": "python",
   "nbconvert_exporter": "python",
   "pygments_lexer": "ipython3",
   "version": "3.10.14"
  }
 },
 "nbformat": 4,
 "nbformat_minor": 5
}
