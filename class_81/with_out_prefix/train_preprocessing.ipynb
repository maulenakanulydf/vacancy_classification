{
 "cells": [
  {
   "cell_type": "code",
   "execution_count": 2,
   "id": "8efcc977-36e3-49b2-aaf3-d87b4c54a5ba",
   "metadata": {},
   "outputs": [],
   "source": [
    "import pandas as pd"
   ]
  },
  {
   "cell_type": "code",
   "execution_count": 3,
   "id": "555cafcd-71ab-4c4b-870d-75ae5a8bcc30",
   "metadata": {},
   "outputs": [],
   "source": [
    "df_81 = pd.read_excel('dataset/train_0_406.xlsx')"
   ]
  },
  {
   "cell_type": "code",
   "execution_count": 6,
   "id": "2e4eee8b-7aad-4a23-9907-c916f0edfe7d",
   "metadata": {
    "scrolled": true
   },
   "outputs": [
    {
     "data": {
      "text/plain": [
       "Index([ 0,  1,  2,  3,  4,  5,  6,  7,  8,  9, 10, 11, 12, 13, 14, 15, 16, 17,\n",
       "       18, 19, 20, 21, 22, 23, 24, 25, 26, 27, 28, 29, 30, 31, 32, 33, 34, 35,\n",
       "       36, 37, 38, 39, 40, 41, 42, 43, 44, 45, 46, 47, 48, 49, 50, 51, 52, 53,\n",
       "       54, 55, 56, 57, 58, 59, 60, 61, 62, 63, 64, 65, 66, 67, 68, 69, 70, 71,\n",
       "       72, 73, 74, 75, 76, 77, 78, 79, 80, 81],\n",
       "      dtype='int64', name='class')"
      ]
     },
     "execution_count": 6,
     "metadata": {},
     "output_type": "execute_result"
    }
   ],
   "source": [
    "df_81['class'].value_counts().sort_index().index"
   ]
  },
  {
   "cell_type": "code",
   "execution_count": 301,
   "id": "26faf046-4282-4026-9da2-3ff06f5b4d8e",
   "metadata": {},
   "outputs": [],
   "source": [
    "index = df_81['class'].value_counts()"
   ]
  },
  {
   "cell_type": "code",
   "execution_count": 302,
   "id": "e1e8073b-e97d-4590-90d4-4af72bb9a8fc",
   "metadata": {},
   "outputs": [],
   "source": [
    "index = index[index < 200]"
   ]
  },
  {
   "cell_type": "code",
   "execution_count": 303,
   "id": "d84a2242-5cf8-477f-be4a-76ce8f200cf7",
   "metadata": {},
   "outputs": [
    {
     "data": {
      "text/plain": [
       "class\n",
       "72    199\n",
       "71    199\n",
       "70    199\n",
       "38    199\n",
       "41    198\n",
       "75    198\n",
       "52    196\n",
       "73    196\n",
       "42    195\n",
       "69    192\n",
       "45    131\n",
       "59    131\n",
       "49    129\n",
       "48     89\n",
       "55      1\n",
       "Name: count, dtype: int64"
      ]
     },
     "execution_count": 303,
     "metadata": {},
     "output_type": "execute_result"
    }
   ],
   "source": [
    "df_81"
   ]
  },
  {
   "cell_type": "code",
   "execution_count": 425,
   "id": "13e4c97f-7b8b-486a-a373-4b6ac11cf3a5",
   "metadata": {},
   "outputs": [],
   "source": [
    "# index = index.index\n",
    "not_available = ['45', '59', '49', '48', '5']"
   ]
  },
  {
   "cell_type": "code",
   "execution_count": 424,
   "id": "c543d8a1-2ebe-430b-a353-3efdad3030e9",
   "metadata": {},
   "outputs": [],
   "source": [
    "df = df_81[~df_81['class'].isin(not_available)]"
   ]
  },
  {
   "cell_type": "code",
   "execution_count": 307,
   "id": "4f544fc5-a30a-4178-8f78-3c1d3f46be66",
   "metadata": {},
   "outputs": [
    {
     "data": {
      "text/html": [
       "<div>\n",
       "<style scoped>\n",
       "    .dataframe tbody tr th:only-of-type {\n",
       "        vertical-align: middle;\n",
       "    }\n",
       "\n",
       "    .dataframe tbody tr th {\n",
       "        vertical-align: top;\n",
       "    }\n",
       "\n",
       "    .dataframe thead th {\n",
       "        text-align: right;\n",
       "    }\n",
       "</style>\n",
       "<table border=\"1\" class=\"dataframe\">\n",
       "  <thead>\n",
       "    <tr style=\"text-align: right;\">\n",
       "      <th></th>\n",
       "      <th>Unnamed: 0.1</th>\n",
       "      <th>Unnamed: 0</th>\n",
       "      <th>id</th>\n",
       "      <th>name</th>\n",
       "      <th>description</th>\n",
       "      <th>class</th>\n",
       "      <th>cnt</th>\n",
       "      <th>response</th>\n",
       "    </tr>\n",
       "  </thead>\n",
       "  <tbody>\n",
       "  </tbody>\n",
       "</table>\n",
       "</div>"
      ],
      "text/plain": [
       "Empty DataFrame\n",
       "Columns: [Unnamed: 0.1, Unnamed: 0, id, name, description, class, cnt, response]\n",
       "Index: []"
      ]
     },
     "execution_count": 307,
     "metadata": {},
     "output_type": "execute_result"
    }
   ],
   "source": [
    "df[df['cnt']>200]"
   ]
  },
  {
   "cell_type": "code",
   "execution_count": 216,
   "id": "dc4eb8bc-9721-40bb-ab12-ffa89ce19352",
   "metadata": {},
   "outputs": [],
   "source": [
    "analythics_meaning = df[df['response'].str.contains('аналитический склад ума', case=False, na=False)]"
   ]
  },
  {
   "cell_type": "code",
   "execution_count": 219,
   "id": "5a5093f2-6b85-4867-a994-7c686e193141",
   "metadata": {
    "scrolled": true
   },
   "outputs": [
    {
     "data": {
      "text/html": [
       "<div>\n",
       "<style scoped>\n",
       "    .dataframe tbody tr th:only-of-type {\n",
       "        vertical-align: middle;\n",
       "    }\n",
       "\n",
       "    .dataframe tbody tr th {\n",
       "        vertical-align: top;\n",
       "    }\n",
       "\n",
       "    .dataframe thead th {\n",
       "        text-align: right;\n",
       "    }\n",
       "</style>\n",
       "<table border=\"1\" class=\"dataframe\">\n",
       "  <thead>\n",
       "    <tr style=\"text-align: right;\">\n",
       "      <th></th>\n",
       "      <th>name</th>\n",
       "      <th>class</th>\n",
       "    </tr>\n",
       "  </thead>\n",
       "  <tbody>\n",
       "    <tr>\n",
       "      <th>6</th>\n",
       "      <td>Младший финансовый аналитик</td>\n",
       "      <td>0</td>\n",
       "    </tr>\n",
       "    <tr>\n",
       "      <th>19</th>\n",
       "      <td>Финансовый менеджер-аналитик</td>\n",
       "      <td>0</td>\n",
       "    </tr>\n",
       "    <tr>\n",
       "      <th>46</th>\n",
       "      <td>Финансовый аналитик</td>\n",
       "      <td>0</td>\n",
       "    </tr>\n",
       "    <tr>\n",
       "      <th>62</th>\n",
       "      <td>Финансовый аналитик</td>\n",
       "      <td>0</td>\n",
       "    </tr>\n",
       "    <tr>\n",
       "      <th>76</th>\n",
       "      <td>Финансовый аналитик</td>\n",
       "      <td>0</td>\n",
       "    </tr>\n",
       "    <tr>\n",
       "      <th>89</th>\n",
       "      <td>Финансовый аналитик</td>\n",
       "      <td>0</td>\n",
       "    </tr>\n",
       "    <tr>\n",
       "      <th>96</th>\n",
       "      <td>Финансовый менеджер</td>\n",
       "      <td>0</td>\n",
       "    </tr>\n",
       "    <tr>\n",
       "      <th>99</th>\n",
       "      <td>Финансовый менеджер-аналитик</td>\n",
       "      <td>0</td>\n",
       "    </tr>\n",
       "    <tr>\n",
       "      <th>106</th>\n",
       "      <td>Финансовый аналитик</td>\n",
       "      <td>0</td>\n",
       "    </tr>\n",
       "    <tr>\n",
       "      <th>109</th>\n",
       "      <td>Финансовый аналитик</td>\n",
       "      <td>0</td>\n",
       "    </tr>\n",
       "    <tr>\n",
       "      <th>118</th>\n",
       "      <td>Финансовый аналитик</td>\n",
       "      <td>0</td>\n",
       "    </tr>\n",
       "    <tr>\n",
       "      <th>129</th>\n",
       "      <td>Финансовый менеджер</td>\n",
       "      <td>0</td>\n",
       "    </tr>\n",
       "    <tr>\n",
       "      <th>147</th>\n",
       "      <td>Финансовый менеджер</td>\n",
       "      <td>0</td>\n",
       "    </tr>\n",
       "    <tr>\n",
       "      <th>158</th>\n",
       "      <td>Финансовый менеджер</td>\n",
       "      <td>0</td>\n",
       "    </tr>\n",
       "    <tr>\n",
       "      <th>178</th>\n",
       "      <td>Финансовый менеджер</td>\n",
       "      <td>0</td>\n",
       "    </tr>\n",
       "    <tr>\n",
       "      <th>182</th>\n",
       "      <td>Финансовый аналитик</td>\n",
       "      <td>0</td>\n",
       "    </tr>\n",
       "    <tr>\n",
       "      <th>184</th>\n",
       "      <td>Финансовый аналитик в дистрибьюторскую компанию</td>\n",
       "      <td>0</td>\n",
       "    </tr>\n",
       "    <tr>\n",
       "      <th>213</th>\n",
       "      <td>Экономист-аналитик</td>\n",
       "      <td>1</td>\n",
       "    </tr>\n",
       "    <tr>\n",
       "      <th>222</th>\n",
       "      <td>Экономист-аналитик</td>\n",
       "      <td>1</td>\n",
       "    </tr>\n",
       "    <tr>\n",
       "      <th>226</th>\n",
       "      <td>Экономист-аналитик</td>\n",
       "      <td>1</td>\n",
       "    </tr>\n",
       "    <tr>\n",
       "      <th>227</th>\n",
       "      <td>Экономист-аналитик</td>\n",
       "      <td>1</td>\n",
       "    </tr>\n",
       "    <tr>\n",
       "      <th>243</th>\n",
       "      <td>Экономист-аналитик (финансист)</td>\n",
       "      <td>1</td>\n",
       "    </tr>\n",
       "    <tr>\n",
       "      <th>244</th>\n",
       "      <td>Экономист-аналитик</td>\n",
       "      <td>1</td>\n",
       "    </tr>\n",
       "    <tr>\n",
       "      <th>257</th>\n",
       "      <td>Экономист-аналитик (финансист)</td>\n",
       "      <td>1</td>\n",
       "    </tr>\n",
       "    <tr>\n",
       "      <th>265</th>\n",
       "      <td>Экономист-аналитик</td>\n",
       "      <td>1</td>\n",
       "    </tr>\n",
       "    <tr>\n",
       "      <th>268</th>\n",
       "      <td>Экономист-аналитик</td>\n",
       "      <td>1</td>\n",
       "    </tr>\n",
       "    <tr>\n",
       "      <th>275</th>\n",
       "      <td>Экономист-аналитик (финансист)</td>\n",
       "      <td>1</td>\n",
       "    </tr>\n",
       "    <tr>\n",
       "      <th>283</th>\n",
       "      <td>Экономист-аналитик</td>\n",
       "      <td>1</td>\n",
       "    </tr>\n",
       "    <tr>\n",
       "      <th>285</th>\n",
       "      <td>Экономист-аналитик</td>\n",
       "      <td>1</td>\n",
       "    </tr>\n",
       "    <tr>\n",
       "      <th>294</th>\n",
       "      <td>Аналитик-макроэкономист</td>\n",
       "      <td>1</td>\n",
       "    </tr>\n",
       "    <tr>\n",
       "      <th>303</th>\n",
       "      <td>Экономист-аналитик</td>\n",
       "      <td>1</td>\n",
       "    </tr>\n",
       "    <tr>\n",
       "      <th>305</th>\n",
       "      <td>Экономист-аналитик</td>\n",
       "      <td>1</td>\n",
       "    </tr>\n",
       "    <tr>\n",
       "      <th>306</th>\n",
       "      <td>Экономист-аналитик (финансист)</td>\n",
       "      <td>1</td>\n",
       "    </tr>\n",
       "    <tr>\n",
       "      <th>318</th>\n",
       "      <td>Экономист - аналитик</td>\n",
       "      <td>1</td>\n",
       "    </tr>\n",
       "    <tr>\n",
       "      <th>334</th>\n",
       "      <td>Экономист-аналитик</td>\n",
       "      <td>1</td>\n",
       "    </tr>\n",
       "    <tr>\n",
       "      <th>355</th>\n",
       "      <td>Экономист-аналитик</td>\n",
       "      <td>1</td>\n",
       "    </tr>\n",
       "    <tr>\n",
       "      <th>379</th>\n",
       "      <td>Аналитик продаж (финансово-экономического отдела)</td>\n",
       "      <td>1</td>\n",
       "    </tr>\n",
       "    <tr>\n",
       "      <th>380</th>\n",
       "      <td>Аналитик/Финансист-Экономист</td>\n",
       "      <td>1</td>\n",
       "    </tr>\n",
       "    <tr>\n",
       "      <th>401</th>\n",
       "      <td>Экономист-аналитик</td>\n",
       "      <td>1</td>\n",
       "    </tr>\n",
       "    <tr>\n",
       "      <th>414</th>\n",
       "      <td>Экономист-аналитик в Дирекцию продаж и маркетинга</td>\n",
       "      <td>1</td>\n",
       "    </tr>\n",
       "    <tr>\n",
       "      <th>417</th>\n",
       "      <td>Экономист-аналитик</td>\n",
       "      <td>1</td>\n",
       "    </tr>\n",
       "    <tr>\n",
       "      <th>431</th>\n",
       "      <td>Экономист-аналитик</td>\n",
       "      <td>1</td>\n",
       "    </tr>\n",
       "    <tr>\n",
       "      <th>436</th>\n",
       "      <td>Аналитик-экономист планово-экономического отдела</td>\n",
       "      <td>1</td>\n",
       "    </tr>\n",
       "    <tr>\n",
       "      <th>437</th>\n",
       "      <td>Экономист-аналитик</td>\n",
       "      <td>1</td>\n",
       "    </tr>\n",
       "    <tr>\n",
       "      <th>439</th>\n",
       "      <td>Экономист-аналитик</td>\n",
       "      <td>1</td>\n",
       "    </tr>\n",
       "    <tr>\n",
       "      <th>624</th>\n",
       "      <td>Бухгалтер по налогам</td>\n",
       "      <td>2</td>\n",
       "    </tr>\n",
       "    <tr>\n",
       "      <th>1341</th>\n",
       "      <td>Фармацевт</td>\n",
       "      <td>5</td>\n",
       "    </tr>\n",
       "    <tr>\n",
       "      <th>1821</th>\n",
       "      <td>Администратор стоматологической клиники</td>\n",
       "      <td>7</td>\n",
       "    </tr>\n",
       "    <tr>\n",
       "      <th>3339</th>\n",
       "      <td>Медицинский представитель</td>\n",
       "      <td>14</td>\n",
       "    </tr>\n",
       "    <tr>\n",
       "      <th>3608</th>\n",
       "      <td>Администратор ресторана доставки</td>\n",
       "      <td>15</td>\n",
       "    </tr>\n",
       "    <tr>\n",
       "      <th>3682</th>\n",
       "      <td>Администратор ресторана доставки</td>\n",
       "      <td>15</td>\n",
       "    </tr>\n",
       "    <tr>\n",
       "      <th>3683</th>\n",
       "      <td>Администратор ресторана</td>\n",
       "      <td>15</td>\n",
       "    </tr>\n",
       "    <tr>\n",
       "      <th>3689</th>\n",
       "      <td>Администратор ресторана</td>\n",
       "      <td>15</td>\n",
       "    </tr>\n",
       "    <tr>\n",
       "      <th>4120</th>\n",
       "      <td>Менеджер отдела продаж в гостинице / sales man...</td>\n",
       "      <td>17</td>\n",
       "    </tr>\n",
       "    <tr>\n",
       "      <th>4224</th>\n",
       "      <td>Архивариус</td>\n",
       "      <td>18</td>\n",
       "    </tr>\n",
       "    <tr>\n",
       "      <th>4339</th>\n",
       "      <td>Архивариус</td>\n",
       "      <td>18</td>\n",
       "    </tr>\n",
       "    <tr>\n",
       "      <th>6072</th>\n",
       "      <td>Бухгалтер по импорту</td>\n",
       "      <td>26</td>\n",
       "    </tr>\n",
       "    <tr>\n",
       "      <th>6103</th>\n",
       "      <td>Бухгалтер-оператор</td>\n",
       "      <td>26</td>\n",
       "    </tr>\n",
       "    <tr>\n",
       "      <th>6200</th>\n",
       "      <td>Младший бухгалтер</td>\n",
       "      <td>26</td>\n",
       "    </tr>\n",
       "    <tr>\n",
       "      <th>6231</th>\n",
       "      <td>Переводчик / менеджер по закупкам</td>\n",
       "      <td>27</td>\n",
       "    </tr>\n",
       "  </tbody>\n",
       "</table>\n",
       "</div>"
      ],
      "text/plain": [
       "                                                   name  class\n",
       "6                           Младший финансовый аналитик      0\n",
       "19                         Финансовый менеджер-аналитик      0\n",
       "46                                  Финансовый аналитик      0\n",
       "62                                  Финансовый аналитик      0\n",
       "76                                  Финансовый аналитик      0\n",
       "89                                  Финансовый аналитик      0\n",
       "96                                  Финансовый менеджер      0\n",
       "99                         Финансовый менеджер-аналитик      0\n",
       "106                                 Финансовый аналитик      0\n",
       "109                                 Финансовый аналитик      0\n",
       "118                                 Финансовый аналитик      0\n",
       "129                                 Финансовый менеджер      0\n",
       "147                                 Финансовый менеджер      0\n",
       "158                                 Финансовый менеджер      0\n",
       "178                                 Финансовый менеджер      0\n",
       "182                                 Финансовый аналитик      0\n",
       "184     Финансовый аналитик в дистрибьюторскую компанию      0\n",
       "213                                  Экономист-аналитик      1\n",
       "222                                  Экономист-аналитик      1\n",
       "226                                  Экономист-аналитик      1\n",
       "227                                  Экономист-аналитик      1\n",
       "243                      Экономист-аналитик (финансист)      1\n",
       "244                                  Экономист-аналитик      1\n",
       "257                      Экономист-аналитик (финансист)      1\n",
       "265                                  Экономист-аналитик      1\n",
       "268                                  Экономист-аналитик      1\n",
       "275                      Экономист-аналитик (финансист)      1\n",
       "283                                  Экономист-аналитик      1\n",
       "285                                  Экономист-аналитик      1\n",
       "294                             Аналитик-макроэкономист      1\n",
       "303                                  Экономист-аналитик      1\n",
       "305                                  Экономист-аналитик      1\n",
       "306                      Экономист-аналитик (финансист)      1\n",
       "318                                Экономист - аналитик      1\n",
       "334                                  Экономист-аналитик      1\n",
       "355                                  Экономист-аналитик      1\n",
       "379   Аналитик продаж (финансово-экономического отдела)      1\n",
       "380                        Аналитик/Финансист-Экономист      1\n",
       "401                                  Экономист-аналитик      1\n",
       "414   Экономист-аналитик в Дирекцию продаж и маркетинга      1\n",
       "417                                  Экономист-аналитик      1\n",
       "431                                  Экономист-аналитик      1\n",
       "436    Аналитик-экономист планово-экономического отдела      1\n",
       "437                                  Экономист-аналитик      1\n",
       "439                                  Экономист-аналитик      1\n",
       "624                                Бухгалтер по налогам      2\n",
       "1341                                          Фармацевт      5\n",
       "1821            Администратор стоматологической клиники      7\n",
       "3339                          Медицинский представитель     14\n",
       "3608                   Администратор ресторана доставки     15\n",
       "3682                   Администратор ресторана доставки     15\n",
       "3683                            Администратор ресторана     15\n",
       "3689                            Администратор ресторана     15\n",
       "4120  Менеджер отдела продаж в гостинице / sales man...     17\n",
       "4224                                         Архивариус     18\n",
       "4339                                         Архивариус     18\n",
       "6072                               Бухгалтер по импорту     26\n",
       "6103                                 Бухгалтер-оператор     26\n",
       "6200                                  Младший бухгалтер     26\n",
       "6231                  Переводчик / менеджер по закупкам     27"
      ]
     },
     "execution_count": 219,
     "metadata": {},
     "output_type": "execute_result"
    }
   ],
   "source": [
    "analythics_meaning[['name', 'class']].head(60)"
   ]
  },
  {
   "cell_type": "code",
   "execution_count": null,
   "id": "5a7db68e-11ad-4c6f-bd4d-8e2b4a529310",
   "metadata": {},
   "outputs": [],
   "source": [
    "analythics_meaning[['name', 'class']].head(60)"
   ]
  },
  {
   "cell_type": "code",
   "execution_count": 221,
   "id": "8c108374-204d-4112-a859-9947907a94e9",
   "metadata": {},
   "outputs": [],
   "source": [
    "rec = analythics_meaning.loc[4339]"
   ]
  },
  {
   "cell_type": "code",
   "execution_count": 237,
   "id": "ade07a86-4ce5-42b5-82df-efd49524e762",
   "metadata": {},
   "outputs": [],
   "source": [
    "df_sum = df['class'].value_counts()"
   ]
  },
  {
   "cell_type": "code",
   "execution_count": 238,
   "id": "6f01810c-0d4f-4d3e-919e-0ae9ea1a68de",
   "metadata": {},
   "outputs": [
    {
     "data": {
      "text/plain": [
       "67"
      ]
     },
     "execution_count": 238,
     "metadata": {},
     "output_type": "execute_result"
    }
   ],
   "source": [
    "len(df_sum)"
   ]
  },
  {
   "cell_type": "code",
   "execution_count": 317,
   "id": "8bb96eb2-d61d-47c7-8bdf-21479e266300",
   "metadata": {},
   "outputs": [],
   "source": [
    "from tqdm.notebook import tqdm\n",
    "tqdm.pandas()"
   ]
  },
  {
   "cell_type": "code",
   "execution_count": 309,
   "id": "f8958197-2762-44b0-85f5-49380a611937",
   "metadata": {
    "scrolled": true
   },
   "outputs": [],
   "source": [
    "from natasha import Doc, Segmenter, NewsMorphTagger, NewsEmbedding, MorphVocab"
   ]
  },
  {
   "cell_type": "code",
   "execution_count": 310,
   "id": "f8ca9d55-7def-4953-ab72-c4afe93f76c9",
   "metadata": {},
   "outputs": [],
   "source": [
    "morph = MorphVocab()"
   ]
  },
  {
   "cell_type": "code",
   "execution_count": 311,
   "id": "2fcc4464-46dc-4ba2-b538-34943d4653dc",
   "metadata": {},
   "outputs": [],
   "source": [
    "segmenter = Segmenter()\n",
    "emb = NewsEmbedding()\n",
    "morph_tagger = NewsMorphTagger(emb)\n",
    "morph_vocab = MorphVocab()"
   ]
  },
  {
   "cell_type": "code",
   "execution_count": 313,
   "id": "a426e597-0e56-45e4-b064-7e11d98a8cae",
   "metadata": {},
   "outputs": [],
   "source": [
    "import pymorphy3"
   ]
  },
  {
   "cell_type": "code",
   "execution_count": 314,
   "id": "c9116716-c011-4cb2-9e94-40fd29c3a149",
   "metadata": {},
   "outputs": [],
   "source": [
    "pymorph = pymorphy3.MorphAnalyzer()"
   ]
  },
  {
   "cell_type": "code",
   "execution_count": 326,
   "id": "8fbc497a-f7da-4d55-bbfa-143ca29946bd",
   "metadata": {},
   "outputs": [],
   "source": [
    "def lemmatize_natasha(responce):\n",
    "    doc = Doc(responce)\n",
    "    doc.segment(segmenter)\n",
    "    doc.tag_morph(morph_tagger)\n",
    "\n",
    "    lemmatized_words = []\n",
    "    for token in doc.tokens:\n",
    "        token.lemmatize(morph_vocab)\n",
    "        lemmatized_words.append(token.lemma)\n",
    "    return ' '.join(lemmatized_words)\n",
    "\n",
    "def lemmatize_pymorphy(responce):\n",
    "    words = responce.split()\n",
    "    lemmatized_words = [morph.parse(word)[0].normal_form for word in words]\n",
    "    return ' '.join(lemmatized_words)\n"
   ]
  },
  {
   "cell_type": "code",
   "execution_count": 449,
   "id": "d602fd89-02e8-481a-a8f8-cb967d0a14ac",
   "metadata": {},
   "outputs": [
    {
     "data": {
      "text/plain": [
       "17641"
      ]
     },
     "execution_count": 449,
     "metadata": {},
     "output_type": "execute_result"
    }
   ],
   "source": [
    "len(df)"
   ]
  },
  {
   "cell_type": "code",
   "execution_count": 451,
   "id": "f2035d65-bf17-439d-94aa-ece54097f3a5",
   "metadata": {},
   "outputs": [],
   "source": [
    "kz_letters = ['ә', 'ғ', 'қ', 'ң', 'ө', 'ұ', 'ү', 'һ', 'і']"
   ]
  },
  {
   "cell_type": "code",
   "execution_count": 452,
   "id": "01bbf583-4fae-465a-b3e9-5e17589c3690",
   "metadata": {
    "scrolled": true
   },
   "outputs": [],
   "source": [
    "df_ru = df_ru[~df_ru['response'].str.contains('|'.join(kz_letters), case = False, na=False)] ## extract kz rows"
   ]
  },
  {
   "cell_type": "code",
   "execution_count": 474,
   "id": "2c02b586-7fbc-48c7-b497-5016dcffb235",
   "metadata": {},
   "outputs": [],
   "source": [
    "not_available = [45, 59, 49, 48, 5, 55]"
   ]
  },
  {
   "cell_type": "code",
   "execution_count": 467,
   "id": "0f505b81-29db-46c6-99d3-762f8178f73c",
   "metadata": {},
   "outputs": [
    {
     "data": {
      "text/plain": [
       "17622"
      ]
     },
     "execution_count": 467,
     "metadata": {},
     "output_type": "execute_result"
    }
   ],
   "source": [
    "len(df_ru)"
   ]
  },
  {
   "cell_type": "code",
   "execution_count": 475,
   "id": "dd8ed902-4989-4cb1-9739-42ea37612423",
   "metadata": {},
   "outputs": [],
   "source": [
    "df_3 = df_ru[~df_ru['class'].isin(not_available)]"
   ]
  },
  {
   "cell_type": "code",
   "execution_count": 469,
   "id": "9d3cfc7f-6d24-4b1a-a6ac-c4ff67368649",
   "metadata": {},
   "outputs": [
    {
     "data": {
      "text/plain": [
       "719"
      ]
     },
     "execution_count": 469,
     "metadata": {},
     "output_type": "execute_result"
    }
   ],
   "source": [
    "len(df_2)"
   ]
  },
  {
   "cell_type": "code",
   "execution_count": 476,
   "id": "09d5bc0f-1a40-41aa-8187-b6ee6dc69820",
   "metadata": {},
   "outputs": [
    {
     "data": {
      "text/plain": [
       "16902"
      ]
     },
     "execution_count": 476,
     "metadata": {},
     "output_type": "execute_result"
    }
   ],
   "source": [
    "len(df_3) ## with +200 rows"
   ]
  },
  {
   "cell_type": "code",
   "execution_count": 485,
   "id": "b6ace74e-675b-4264-9e56-b6967b7bcb1d",
   "metadata": {},
   "outputs": [
    {
     "data": {
      "text/html": [
       "<div>\n",
       "<style scoped>\n",
       "    .dataframe tbody tr th:only-of-type {\n",
       "        vertical-align: middle;\n",
       "    }\n",
       "\n",
       "    .dataframe tbody tr th {\n",
       "        vertical-align: top;\n",
       "    }\n",
       "\n",
       "    .dataframe thead th {\n",
       "        text-align: right;\n",
       "    }\n",
       "</style>\n",
       "<table border=\"1\" class=\"dataframe\">\n",
       "  <thead>\n",
       "    <tr style=\"text-align: right;\">\n",
       "      <th></th>\n",
       "      <th>Unnamed: 0.1</th>\n",
       "      <th>Unnamed: 0</th>\n",
       "      <th>id</th>\n",
       "      <th>name</th>\n",
       "      <th>description</th>\n",
       "      <th>class</th>\n",
       "      <th>cnt</th>\n",
       "      <th>response</th>\n",
       "      <th>natasha_response</th>\n",
       "    </tr>\n",
       "  </thead>\n",
       "  <tbody>\n",
       "    <tr>\n",
       "      <th>0</th>\n",
       "      <td>0</td>\n",
       "      <td>0</td>\n",
       "      <td>13246</td>\n",
       "      <td>Финансовый аналитик</td>\n",
       "      <td>обязанности организовывает управление движение...</td>\n",
       "      <td>0</td>\n",
       "      <td>153</td>\n",
       "      <td>организовывает управление движением финансовых...</td>\n",
       "      <td>организовывать управление движение финансовый ...</td>\n",
       "    </tr>\n",
       "    <tr>\n",
       "      <th>1</th>\n",
       "      <td>1</td>\n",
       "      <td>1</td>\n",
       "      <td>14266</td>\n",
       "      <td>Финансовый менеджер</td>\n",
       "      <td>обязанности составление бюджета доходов бюджет...</td>\n",
       "      <td>0</td>\n",
       "      <td>127</td>\n",
       "      <td>Составление бюджета доходов и расходов, контро...</td>\n",
       "      <td>составление бюджет доход и расход , контроль и...</td>\n",
       "    </tr>\n",
       "    <tr>\n",
       "      <th>2</th>\n",
       "      <td>2</td>\n",
       "      <td>2</td>\n",
       "      <td>14674</td>\n",
       "      <td>Финансовый аналитик</td>\n",
       "      <td>уважаемый кандидат компания alem sauda ltd рад...</td>\n",
       "      <td>0</td>\n",
       "      <td>168</td>\n",
       "      <td>Разработка и внедрение внутренних регламентиру...</td>\n",
       "      <td>разработка и внедрение внутренний регламентиро...</td>\n",
       "    </tr>\n",
       "    <tr>\n",
       "      <th>3</th>\n",
       "      <td>3</td>\n",
       "      <td>3</td>\n",
       "      <td>15042</td>\n",
       "      <td>Старший финансовый аналитик</td>\n",
       "      <td>требования высшее финансовое экономическое обр...</td>\n",
       "      <td>0</td>\n",
       "      <td>149</td>\n",
       "      <td>Осуществлять работу экономическому планировани...</td>\n",
       "      <td>осуществлять работа экономический планирование...</td>\n",
       "    </tr>\n",
       "    <tr>\n",
       "      <th>4</th>\n",
       "      <td>4</td>\n",
       "      <td>4</td>\n",
       "      <td>16179</td>\n",
       "      <td>Финансовый аналитик на проект Sandyq</td>\n",
       "      <td>обязанности формирование управленческой отчетн...</td>\n",
       "      <td>0</td>\n",
       "      <td>125</td>\n",
       "      <td>формирование управленческой отчетности, анализ...</td>\n",
       "      <td>формирование управленческий отчетность , анали...</td>\n",
       "    </tr>\n",
       "  </tbody>\n",
       "</table>\n",
       "</div>"
      ],
      "text/plain": [
       "   Unnamed: 0.1  Unnamed: 0     id                                  name  \\\n",
       "0             0           0  13246                   Финансовый аналитик   \n",
       "1             1           1  14266                   Финансовый менеджер   \n",
       "2             2           2  14674                   Финансовый аналитик   \n",
       "3             3           3  15042           Старший финансовый аналитик   \n",
       "4             4           4  16179  Финансовый аналитик на проект Sandyq   \n",
       "\n",
       "                                         description  class  cnt  \\\n",
       "0  обязанности организовывает управление движение...      0  153   \n",
       "1  обязанности составление бюджета доходов бюджет...      0  127   \n",
       "2  уважаемый кандидат компания alem sauda ltd рад...      0  168   \n",
       "3  требования высшее финансовое экономическое обр...      0  149   \n",
       "4  обязанности формирование управленческой отчетн...      0  125   \n",
       "\n",
       "                                            response  \\\n",
       "0  организовывает управление движением финансовых...   \n",
       "1  Составление бюджета доходов и расходов, контро...   \n",
       "2  Разработка и внедрение внутренних регламентиру...   \n",
       "3  Осуществлять работу экономическому планировани...   \n",
       "4  формирование управленческой отчетности, анализ...   \n",
       "\n",
       "                                    natasha_response  \n",
       "0  организовывать управление движение финансовый ...  \n",
       "1  составление бюджет доход и расход , контроль и...  \n",
       "2  разработка и внедрение внутренний регламентиро...  \n",
       "3  осуществлять работа экономический планирование...  \n",
       "4  формирование управленческий отчетность , анали...  "
      ]
     },
     "execution_count": 485,
     "metadata": {},
     "output_type": "execute_result"
    }
   ],
   "source": [
    "df_3.head()"
   ]
  },
  {
   "cell_type": "code",
   "execution_count": 483,
   "id": "9d833361-0da0-4481-b146-19c25c20de2a",
   "metadata": {},
   "outputs": [
    {
     "data": {
      "application/vnd.jupyter.widget-view+json": {
       "model_id": "fe7fcfab8a044735ac0220757efe4c49",
       "version_major": 2,
       "version_minor": 0
      },
      "text/plain": [
       "  0%|          | 0/16902 [00:00<?, ?it/s]"
      ]
     },
     "metadata": {},
     "output_type": "display_data"
    },
    {
     "name": "stderr",
     "output_type": "stream",
     "text": [
      "/tmp/ipykernel_10918/1341141726.py:1: SettingWithCopyWarning: \n",
      "A value is trying to be set on a copy of a slice from a DataFrame.\n",
      "Try using .loc[row_indexer,col_indexer] = value instead\n",
      "\n",
      "See the caveats in the documentation: https://pandas.pydata.org/pandas-docs/stable/user_guide/indexing.html#returning-a-view-versus-a-copy\n",
      "  df_3['natasha_response'] = df_3['response'].progress_apply(lambda x: lemmatize_natasha(x))\n"
     ]
    }
   ],
   "source": [
    "df_3['natasha_response'] = df_3['response'].progress_apply(lambda x: lemmatize_natasha(x))"
   ]
  },
  {
   "cell_type": "code",
   "execution_count": 486,
   "id": "1d990a12-b429-4c38-95c2-c3c9b462cb57",
   "metadata": {},
   "outputs": [
    {
     "data": {
      "text/plain": [
       "'расшифровка показатель , составление отчет о результат деятельность компания , оценка риск , сбор данные , составление плана-факт анализ , помощь в составление бюджет , работа с банк , помощь финансовый контролер . высокий финансовый или экономический образование , отличный знание ms excel , опыт работа менее год в составление финансовый , управленческий , отдельный и консолидированный отчетность , знание бухгалтерский и налоговый учет , опыт бюджетирование и планирование .'"
      ]
     },
     "execution_count": 486,
     "metadata": {},
     "output_type": "execute_result"
    }
   ],
   "source": [
    "df_3['natasha_response'][55]"
   ]
  },
  {
   "cell_type": "code",
   "execution_count": 491,
   "id": "ddff9232-1636-479c-8212-7b41d4d33479",
   "metadata": {},
   "outputs": [],
   "source": [
    "df_3 = df_3[['id','name','description','response','natasha_response','class']]"
   ]
  },
  {
   "cell_type": "code",
   "execution_count": 498,
   "id": "a338f211-770c-4848-8642-d84495b4ead4",
   "metadata": {
    "scrolled": true
   },
   "outputs": [
    {
     "data": {
      "text/plain": [
       "class\n",
       "0     210\n",
       "1     232\n",
       "2     215\n",
       "3     223\n",
       "4     233\n",
       "6     243\n",
       "7     242\n",
       "8     238\n",
       "9     210\n",
       "10    236\n",
       "11    247\n",
       "12    237\n",
       "13    215\n",
       "14    249\n",
       "15    245\n",
       "16    222\n",
       "17    230\n",
       "18    231\n",
       "19    237\n",
       "20    225\n",
       "21    236\n",
       "22    227\n",
       "23    219\n",
       "24    213\n",
       "25    240\n",
       "26    231\n",
       "27    210\n",
       "28    216\n",
       "29    236\n",
       "30    242\n",
       "31    234\n",
       "32    232\n",
       "33    241\n",
       "34    203\n",
       "35    209\n",
       "36    203\n",
       "37    226\n",
       "38    199\n",
       "39    223\n",
       "40    228\n",
       "41    198\n",
       "42    195\n",
       "43    232\n",
       "44    246\n",
       "46    230\n",
       "47    212\n",
       "50    202\n",
       "51    202\n",
       "52    196\n",
       "53    218\n",
       "54    229\n",
       "56    210\n",
       "57    214\n",
       "58    231\n",
       "60    245\n",
       "61    214\n",
       "62    225\n",
       "63    242\n",
       "64    227\n",
       "65    220\n",
       "66    225\n",
       "67    206\n",
       "68    231\n",
       "69    192\n",
       "70    198\n",
       "71    199\n",
       "72    199\n",
       "73    196\n",
       "74    230\n",
       "75    198\n",
       "76    214\n",
       "77    231\n",
       "78    226\n",
       "79    225\n",
       "80    232\n",
       "81    224\n",
       "Name: count, dtype: int64"
      ]
     },
     "execution_count": 498,
     "metadata": {},
     "output_type": "execute_result"
    }
   ],
   "source": [
    "df_3['class'].value_counts().sort_index()"
   ]
  },
  {
   "cell_type": "code",
   "execution_count": 502,
   "id": "c551d414-4f08-4dd8-a121-482e035b44ea",
   "metadata": {},
   "outputs": [
    {
     "data": {
      "text/plain": [
       "'организовывает управление движением финансовых ресурсов, регулирование финансовых отношений, разработку нормативов оборотных средств, ведение учета движения финансовых средств, составление отчетности, контроль правильности составления и своевременности предоставления отчетной документации, рациональное обеспечение денежных средств компании, минимизация расходов. высшее финансовое экономическое образование, стаж работы в области финансовой деятельности не менее 3 лет, опытный пользователь ПК MS Office, знание Excel обязательно.  \\n'"
      ]
     },
     "execution_count": 502,
     "metadata": {},
     "output_type": "execute_result"
    }
   ],
   "source": [
    "df_3['response'][0]"
   ]
  },
  {
   "cell_type": "code",
   "execution_count": 503,
   "id": "2107df38-0e4d-4347-b4c0-6c5e0e1c4d2d",
   "metadata": {},
   "outputs": [],
   "source": [
    "df_3.to_csv('81_cat_1version.csv') ## first version witout any tf, ner or smth "
   ]
  },
  {
   "cell_type": "code",
   "execution_count": 504,
   "id": "4923e6bf-97bf-4d5f-b12e-998ddffb296a",
   "metadata": {},
   "outputs": [],
   "source": [
    "data = [\n",
    "    210, 232, 215, 223, 233, 243, 242, 238, 210, 236, 247, 237, 215, 249, 245, 222, \n",
    "    230, 231, 237, 225, 236, 227, 219, 213, 240, 231, 210, 216, 236, 242, 234, 232, \n",
    "    241, 203, 209, 203, 226, 199, 223, 228, 198, 195, 232, 246, 230, 212, 202, 202, \n",
    "    196, 218, 229, 210, 214, 231, 245, 214, 225, 242, 227, 220, 225, 206, 231, 192, \n",
    "    198, 199, 199, 196, 230, 198, 214, 231, 226, 225, 232, 224\n",
    "]"
   ]
  },
  {
   "cell_type": "code",
   "execution_count": 505,
   "id": "adb62374-0803-411b-89d9-338eabc9fcbf",
   "metadata": {},
   "outputs": [
    {
     "data": {
      "text/plain": [
       "76"
      ]
     },
     "execution_count": 505,
     "metadata": {},
     "output_type": "execute_result"
    }
   ],
   "source": [
    "len(data)"
   ]
  },
  {
   "cell_type": "code",
   "execution_count": 508,
   "id": "40d8a28a-6d22-4ce9-8e1e-6acd2425a94d",
   "metadata": {},
   "outputs": [],
   "source": [
    "import nltk\n",
    "from nltk.corpus import stopwords\n",
    "from nltk.tokenize import word_tokenize"
   ]
  },
  {
   "cell_type": "code",
   "execution_count": 509,
   "id": "878417b3-3cee-4fe9-a6b0-d5322766d526",
   "metadata": {},
   "outputs": [],
   "source": [
    "import re\n",
    "from nltk.tokenize import RegexpTokenizer\n",
    "from bs4 import BeautifulSoup as bs"
   ]
  },
  {
   "cell_type": "code",
   "execution_count": 511,
   "id": "fdcb0c2e-cfde-4c01-89d5-3e00cb329bc8",
   "metadata": {},
   "outputs": [],
   "source": [
    "def preprocess(sentence):\n",
    "    soup = bs(sentence, features=\"html.parser\")\n",
    "    sentence = soup.get_text()\n",
    "    soup = bs(sentence, features=\"html.parser\")\n",
    "    sentence = soup.get_text()\n",
    "\n",
    "    sentence = str(sentence)\n",
    "    sentence = sentence.lower()\n",
    "    sentence = sentence.replace('{html}',\"\")\n",
    "    cleanr = re.compile('<.*?>')\n",
    "    cleantext = re.sub(cleanr, '', sentence)\n",
    "    rem_url = re.sub(r'http\\S+', '',cleantext)\n",
    "    rem_num = re.sub('[0-9]+', '', rem_url)\n",
    "    tokenizer = RegexpTokenizer(r'\\w+')\n",
    "    tokens = tokenizer.tokenize(rem_num)\n",
    "    filtered_words = [w for w in tokens if not w in stopwords.words('russian')]\n",
    "\n",
    "    return \" \".join(filtered_words)"
   ]
  },
  {
   "cell_type": "code",
   "execution_count": 512,
   "id": "7dd555b8-e4d7-4ecd-88be-9f8f2d92d308",
   "metadata": {},
   "outputs": [
    {
     "data": {
      "application/vnd.jupyter.widget-view+json": {
       "model_id": "5961570c197646419f488af2be488519",
       "version_major": 2,
       "version_minor": 0
      },
      "text/plain": [
       "  0%|          | 0/16902 [00:00<?, ?it/s]"
      ]
     },
     "metadata": {},
     "output_type": "display_data"
    },
    {
     "name": "stderr",
     "output_type": "stream",
     "text": [
      "/tmp/ipykernel_10918/4234330403.py:2: MarkupResemblesLocatorWarning: The input looks more like a filename than markup. You may want to open this file and pass the filehandle into Beautiful Soup.\n",
      "  soup = bs(sentence, features=\"html.parser\")\n",
      "/tmp/ipykernel_10918/4234330403.py:4: MarkupResemblesLocatorWarning: The input looks more like a filename than markup. You may want to open this file and pass the filehandle into Beautiful Soup.\n",
      "  soup = bs(sentence, features=\"html.parser\")\n",
      "/tmp/ipykernel_10918/1609806462.py:1: SettingWithCopyWarning: \n",
      "A value is trying to be set on a copy of a slice from a DataFrame.\n",
      "Try using .loc[row_indexer,col_indexer] = value instead\n",
      "\n",
      "See the caveats in the documentation: https://pandas.pydata.org/pandas-docs/stable/user_guide/indexing.html#returning-a-view-versus-a-copy\n",
      "  df_3['natasha_response_stopwords'] = df_3['natasha_response'].progress_apply(lambda x:preprocess(x))\n"
     ]
    }
   ],
   "source": [
    "df_3['natasha_response_stopwords'] = df_3['natasha_response'].progress_apply(lambda x:preprocess(x))"
   ]
  },
  {
   "cell_type": "code",
   "execution_count": 507,
   "id": "04c293ab-9513-4822-8d1d-a6177c305211",
   "metadata": {},
   "outputs": [
    {
     "data": {
      "text/plain": [
       "'организовывать управление движение финансовый ресурс , регулирование финансовый отношение , разработка норматив оборотный средство , ведение учет движение финансовый средство , составление отчетность , контроль правильность составление и своевременность предоставление отчетный документация , рациональный обеспечение денежный средство компания , минимизация расход . высокий финансовый экономический образование , стаж работа в область финансовый деятельность не менее 3 год , опытный пользователь пк ms office , знание excel обязательно .'"
      ]
     },
     "execution_count": 507,
     "metadata": {},
     "output_type": "execute_result"
    }
   ],
   "source": [
    "df_3['natasha_response'][0]"
   ]
  },
  {
   "cell_type": "code",
   "execution_count": 513,
   "id": "944c987e-c57a-4776-8d9e-c167c319bbb7",
   "metadata": {},
   "outputs": [
    {
     "data": {
      "text/plain": [
       "'организовывать управление движение финансовый ресурс регулирование финансовый отношение разработка норматив оборотный средство ведение учет движение финансовый средство составление отчетность контроль правильность составление своевременность предоставление отчетный документация рациональный обеспечение денежный средство компания минимизация расход высокий финансовый экономический образование стаж работа область финансовый деятельность менее год опытный пользователь пк ms office знание excel обязательно'"
      ]
     },
     "execution_count": 513,
     "metadata": {},
     "output_type": "execute_result"
    }
   ],
   "source": [
    "df_3['natasha_response_stopwords'][0]"
   ]
  },
  {
   "cell_type": "code",
   "execution_count": 514,
   "id": "57f271ec-8a3b-45d4-92d1-b76f81828a35",
   "metadata": {},
   "outputs": [],
   "source": [
    "df_3.to_csv('81_cat_1version.csv')"
   ]
  },
  {
   "cell_type": "code",
   "execution_count": 527,
   "id": "9a849044-68ad-4027-860d-373cbc3d3227",
   "metadata": {},
   "outputs": [
    {
     "data": {
      "text/plain": [
       "Index([ 0,  1,  2,  3,  4,  6,  7,  8,  9, 10, 11, 12, 13, 14, 15, 16, 17, 18,\n",
       "       19, 20, 21, 22, 23, 24, 25, 26, 27, 28, 29, 30, 31, 32, 33, 34, 35, 36,\n",
       "       37, 38, 39, 40, 41, 42, 43, 44, 46, 47, 50, 51, 52, 53, 54, 56, 57, 58,\n",
       "       60, 61, 62, 63, 64, 65, 66, 67, 68, 69, 70, 71, 72, 73, 74, 75, 76, 77,\n",
       "       78, 79, 80, 81],\n",
       "      dtype='int64', name='class')"
      ]
     },
     "execution_count": 527,
     "metadata": {},
     "output_type": "execute_result"
    }
   ],
   "source": [
    "df_3['class'].value_counts().sort_index().index"
   ]
  },
  {
   "cell_type": "code",
   "execution_count": 528,
   "id": "90fe3ef8-e205-4e7b-bbaf-376a6bbd34f0",
   "metadata": {},
   "outputs": [],
   "source": [
    "from sklearn.preprocessing import LabelEncoder"
   ]
  },
  {
   "cell_type": "code",
   "execution_count": 529,
   "id": "8522c0d1-5917-4ced-9e41-170262b76365",
   "metadata": {},
   "outputs": [],
   "source": [
    "encoder = LabelEncoder()"
   ]
  },
  {
   "cell_type": "code",
   "execution_count": 530,
   "id": "aa182f03-fd3b-4344-9f4a-79f0def6f1b4",
   "metadata": {},
   "outputs": [
    {
     "name": "stderr",
     "output_type": "stream",
     "text": [
      "/tmp/ipykernel_10918/18624745.py:1: SettingWithCopyWarning: \n",
      "A value is trying to be set on a copy of a slice from a DataFrame.\n",
      "Try using .loc[row_indexer,col_indexer] = value instead\n",
      "\n",
      "See the caveats in the documentation: https://pandas.pydata.org/pandas-docs/stable/user_guide/indexing.html#returning-a-view-versus-a-copy\n",
      "  df_3['class'] = encoder.fit_transform(df_3['class'])\n"
     ]
    }
   ],
   "source": [
    "df_3['class'] = encoder.fit_transform(df_3['class'])"
   ]
  },
  {
   "cell_type": "code",
   "execution_count": 531,
   "id": "4b9a8aca-7179-451a-813f-ba90dd79da61",
   "metadata": {},
   "outputs": [
    {
     "data": {
      "text/plain": [
       "Index([ 0,  1,  2,  3,  4,  5,  6,  7,  8,  9, 10, 11, 12, 13, 14, 15, 16, 17,\n",
       "       18, 19, 20, 21, 22, 23, 24, 25, 26, 27, 28, 29, 30, 31, 32, 33, 34, 35,\n",
       "       36, 37, 38, 39, 40, 41, 42, 43, 44, 45, 46, 47, 48, 49, 50, 51, 52, 53,\n",
       "       54, 55, 56, 57, 58, 59, 60, 61, 62, 63, 64, 65, 66, 67, 68, 69, 70, 71,\n",
       "       72, 73, 74, 75],\n",
       "      dtype='int64', name='class')"
      ]
     },
     "execution_count": 531,
     "metadata": {},
     "output_type": "execute_result"
    }
   ],
   "source": [
    "df_3['class'].value_counts().sort_index().index"
   ]
  },
  {
   "cell_type": "code",
   "execution_count": 532,
   "id": "e4e33bab-a35f-4b6f-ab89-cfd2696528c4",
   "metadata": {},
   "outputs": [],
   "source": [
    "df_3.to_csv('81_cat_1version.csv')"
   ]
  },
  {
   "cell_type": "code",
   "execution_count": null,
   "id": "3a8b33f3-7c32-40be-b90a-fc5ea858f79e",
   "metadata": {},
   "outputs": [],
   "source": []
  },
  {
   "cell_type": "code",
   "execution_count": null,
   "id": "fcbbd547-ba0a-4b41-bcbd-84b75af8765d",
   "metadata": {},
   "outputs": [],
   "source": []
  }
 ],
 "metadata": {
  "kernelspec": {
   "display_name": "Python 3 (ipykernel)",
   "language": "python",
   "name": "python3"
  },
  "language_info": {
   "codemirror_mode": {
    "name": "ipython",
    "version": 3
   },
   "file_extension": ".py",
   "mimetype": "text/x-python",
   "name": "python",
   "nbconvert_exporter": "python",
   "pygments_lexer": "ipython3",
   "version": "3.10.14"
  }
 },
 "nbformat": 4,
 "nbformat_minor": 5
}
