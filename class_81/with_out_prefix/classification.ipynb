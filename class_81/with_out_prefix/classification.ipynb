{
 "cells": [
  {
   "cell_type": "code",
   "execution_count": 1,
   "id": "81b0847a-e373-4718-a337-04f6035285e0",
   "metadata": {},
   "outputs": [],
   "source": [
    "import pandas as pd"
   ]
  },
  {
   "cell_type": "code",
   "execution_count": 2,
   "id": "dece1264-42f7-4f27-b680-d15825381a75",
   "metadata": {},
   "outputs": [],
   "source": [
    "df = pd.read_csv('dataset/81_cat_1version_stop_words.csv')"
   ]
  },
  {
   "cell_type": "code",
   "execution_count": 3,
   "id": "e6861a8f-fe59-41ec-b6a4-8f309083949f",
   "metadata": {},
   "outputs": [],
   "source": [
    "df = df.reset_index(drop=True)"
   ]
  },
  {
   "cell_type": "code",
   "execution_count": 4,
   "id": "e78124f4-a736-42a0-9a0f-4bbdda503030",
   "metadata": {},
   "outputs": [],
   "source": [
    "from sklearn.preprocessing import LabelEncoder\n",
    "encoder = LabelEncoder()\n",
    "df['class'] = encoder.fit_transform(df['class'])"
   ]
  },
  {
   "cell_type": "code",
   "execution_count": 5,
   "id": "cb791c3c-01e4-4e4d-b7c1-a603703074b3",
   "metadata": {
    "collapsed": true,
    "jupyter": {
     "outputs_hidden": true
    },
    "scrolled": true
   },
   "outputs": [
    {
     "data": {
      "text/html": [
       "<div>\n",
       "<style scoped>\n",
       "    .dataframe tbody tr th:only-of-type {\n",
       "        vertical-align: middle;\n",
       "    }\n",
       "\n",
       "    .dataframe tbody tr th {\n",
       "        vertical-align: top;\n",
       "    }\n",
       "\n",
       "    .dataframe thead th {\n",
       "        text-align: right;\n",
       "    }\n",
       "</style>\n",
       "<table border=\"1\" class=\"dataframe\">\n",
       "  <thead>\n",
       "    <tr style=\"text-align: right;\">\n",
       "      <th></th>\n",
       "      <th>Unnamed: 0</th>\n",
       "      <th>id</th>\n",
       "      <th>name</th>\n",
       "      <th>description</th>\n",
       "      <th>response</th>\n",
       "      <th>natasha_response</th>\n",
       "      <th>class</th>\n",
       "      <th>natasha_response_stopwords</th>\n",
       "    </tr>\n",
       "  </thead>\n",
       "  <tbody>\n",
       "    <tr>\n",
       "      <th>0</th>\n",
       "      <td>0</td>\n",
       "      <td>13246</td>\n",
       "      <td>Финансовый аналитик</td>\n",
       "      <td>обязанности организовывает управление движение...</td>\n",
       "      <td>организовывает управление движением финансовых...</td>\n",
       "      <td>организовывать управление движение финансовый ...</td>\n",
       "      <td>0</td>\n",
       "      <td>организовывать управление движение финансовый ...</td>\n",
       "    </tr>\n",
       "    <tr>\n",
       "      <th>1</th>\n",
       "      <td>1</td>\n",
       "      <td>14266</td>\n",
       "      <td>Финансовый менеджер</td>\n",
       "      <td>обязанности составление бюджета доходов бюджет...</td>\n",
       "      <td>Составление бюджета доходов и расходов, контро...</td>\n",
       "      <td>составление бюджет доход и расход , контроль и...</td>\n",
       "      <td>0</td>\n",
       "      <td>составление бюджет доход расход контроль испол...</td>\n",
       "    </tr>\n",
       "    <tr>\n",
       "      <th>2</th>\n",
       "      <td>2</td>\n",
       "      <td>14674</td>\n",
       "      <td>Финансовый аналитик</td>\n",
       "      <td>уважаемый кандидат компания alem sauda ltd рад...</td>\n",
       "      <td>Разработка и внедрение внутренних регламентиру...</td>\n",
       "      <td>разработка и внедрение внутренний регламентиро...</td>\n",
       "      <td>0</td>\n",
       "      <td>разработка внедрение внутренний регламентирова...</td>\n",
       "    </tr>\n",
       "    <tr>\n",
       "      <th>3</th>\n",
       "      <td>3</td>\n",
       "      <td>15042</td>\n",
       "      <td>Старший финансовый аналитик</td>\n",
       "      <td>требования высшее финансовое экономическое обр...</td>\n",
       "      <td>Осуществлять работу экономическому планировани...</td>\n",
       "      <td>осуществлять работа экономический планирование...</td>\n",
       "      <td>0</td>\n",
       "      <td>осуществлять работа экономический планирование...</td>\n",
       "    </tr>\n",
       "    <tr>\n",
       "      <th>4</th>\n",
       "      <td>4</td>\n",
       "      <td>16179</td>\n",
       "      <td>Финансовый аналитик на проект Sandyq</td>\n",
       "      <td>обязанности формирование управленческой отчетн...</td>\n",
       "      <td>формирование управленческой отчетности, анализ...</td>\n",
       "      <td>формирование управленческий отчетность , анали...</td>\n",
       "      <td>0</td>\n",
       "      <td>формирование управленческий отчетность анализ ...</td>\n",
       "    </tr>\n",
       "    <tr>\n",
       "      <th>...</th>\n",
       "      <td>...</td>\n",
       "      <td>...</td>\n",
       "      <td>...</td>\n",
       "      <td>...</td>\n",
       "      <td>...</td>\n",
       "      <td>...</td>\n",
       "      <td>...</td>\n",
       "      <td>...</td>\n",
       "    </tr>\n",
       "    <tr>\n",
       "      <th>16897</th>\n",
       "      <td>17636</td>\n",
       "      <td>82155</td>\n",
       "      <td>Снабженец-логист</td>\n",
       "      <td>обязанности организация закупки соответствующи...</td>\n",
       "      <td>Организация закупки товаров, организация долго...</td>\n",
       "      <td>организация закупка товар , организация долгос...</td>\n",
       "      <td>75</td>\n",
       "      <td>организация закупка товар организация долгосро...</td>\n",
       "    </tr>\n",
       "    <tr>\n",
       "      <th>16898</th>\n",
       "      <td>17637</td>\n",
       "      <td>82695</td>\n",
       "      <td>Логист</td>\n",
       "      <td>обязанности поиск автотранспорта перевозкам рф...</td>\n",
       "      <td>Поиск автотранспорта, перевозки РФ РК внутри Р...</td>\n",
       "      <td>поиск автотранспорт , перевозка рф рк внутри р...</td>\n",
       "      <td>75</td>\n",
       "      <td>поиск автотранспорт перевозка рф рк внутри рк ...</td>\n",
       "    </tr>\n",
       "    <tr>\n",
       "      <th>16899</th>\n",
       "      <td>17638</td>\n",
       "      <td>82941</td>\n",
       "      <td>Специалист по логистике</td>\n",
       "      <td>обязанности отвечать звонки обрабатывать заявк...</td>\n",
       "      <td>Отвечать звонки, обрабатывать заявки, презента...</td>\n",
       "      <td>отвечать звонок , обрабатывать заявка , презен...</td>\n",
       "      <td>75</td>\n",
       "      <td>отвечать звонок обрабатывать заявка презентаци...</td>\n",
       "    </tr>\n",
       "    <tr>\n",
       "      <th>16900</th>\n",
       "      <td>17639</td>\n",
       "      <td>83572</td>\n",
       "      <td>Специалист по логистике</td>\n",
       "      <td>обязанности организация планирование контроль ...</td>\n",
       "      <td>Организация, планирование, контроль и регулиро...</td>\n",
       "      <td>организация , планирование , контроль и регули...</td>\n",
       "      <td>75</td>\n",
       "      <td>организация планирование контроль регулировани...</td>\n",
       "    </tr>\n",
       "    <tr>\n",
       "      <th>16901</th>\n",
       "      <td>17640</td>\n",
       "      <td>85625</td>\n",
       "      <td>Специалист отдела закупок и логистики</td>\n",
       "      <td>обязанности составлять прогнозы планы вести по...</td>\n",
       "      <td>Составлять прогнозы, планы, вести поиск выгодн...</td>\n",
       "      <td>составлять прогноз , план , вести поиск выгодн...</td>\n",
       "      <td>75</td>\n",
       "      <td>составлять прогноз план вести поиск выгодный п...</td>\n",
       "    </tr>\n",
       "  </tbody>\n",
       "</table>\n",
       "<p>16902 rows × 8 columns</p>\n",
       "</div>"
      ],
      "text/plain": [
       "       Unnamed: 0     id                                   name  \\\n",
       "0               0  13246                    Финансовый аналитик   \n",
       "1               1  14266                    Финансовый менеджер   \n",
       "2               2  14674                    Финансовый аналитик   \n",
       "3               3  15042            Старший финансовый аналитик   \n",
       "4               4  16179   Финансовый аналитик на проект Sandyq   \n",
       "...           ...    ...                                    ...   \n",
       "16897       17636  82155                       Снабженец-логист   \n",
       "16898       17637  82695                                 Логист   \n",
       "16899       17638  82941                Специалист по логистике   \n",
       "16900       17639  83572                Специалист по логистике   \n",
       "16901       17640  85625  Специалист отдела закупок и логистики   \n",
       "\n",
       "                                             description  \\\n",
       "0      обязанности организовывает управление движение...   \n",
       "1      обязанности составление бюджета доходов бюджет...   \n",
       "2      уважаемый кандидат компания alem sauda ltd рад...   \n",
       "3      требования высшее финансовое экономическое обр...   \n",
       "4      обязанности формирование управленческой отчетн...   \n",
       "...                                                  ...   \n",
       "16897  обязанности организация закупки соответствующи...   \n",
       "16898  обязанности поиск автотранспорта перевозкам рф...   \n",
       "16899  обязанности отвечать звонки обрабатывать заявк...   \n",
       "16900  обязанности организация планирование контроль ...   \n",
       "16901  обязанности составлять прогнозы планы вести по...   \n",
       "\n",
       "                                                response  \\\n",
       "0      организовывает управление движением финансовых...   \n",
       "1      Составление бюджета доходов и расходов, контро...   \n",
       "2      Разработка и внедрение внутренних регламентиру...   \n",
       "3      Осуществлять работу экономическому планировани...   \n",
       "4      формирование управленческой отчетности, анализ...   \n",
       "...                                                  ...   \n",
       "16897  Организация закупки товаров, организация долго...   \n",
       "16898  Поиск автотранспорта, перевозки РФ РК внутри Р...   \n",
       "16899  Отвечать звонки, обрабатывать заявки, презента...   \n",
       "16900  Организация, планирование, контроль и регулиро...   \n",
       "16901  Составлять прогнозы, планы, вести поиск выгодн...   \n",
       "\n",
       "                                        natasha_response  class  \\\n",
       "0      организовывать управление движение финансовый ...      0   \n",
       "1      составление бюджет доход и расход , контроль и...      0   \n",
       "2      разработка и внедрение внутренний регламентиро...      0   \n",
       "3      осуществлять работа экономический планирование...      0   \n",
       "4      формирование управленческий отчетность , анали...      0   \n",
       "...                                                  ...    ...   \n",
       "16897  организация закупка товар , организация долгос...     75   \n",
       "16898  поиск автотранспорт , перевозка рф рк внутри р...     75   \n",
       "16899  отвечать звонок , обрабатывать заявка , презен...     75   \n",
       "16900  организация , планирование , контроль и регули...     75   \n",
       "16901  составлять прогноз , план , вести поиск выгодн...     75   \n",
       "\n",
       "                              natasha_response_stopwords  \n",
       "0      организовывать управление движение финансовый ...  \n",
       "1      составление бюджет доход расход контроль испол...  \n",
       "2      разработка внедрение внутренний регламентирова...  \n",
       "3      осуществлять работа экономический планирование...  \n",
       "4      формирование управленческий отчетность анализ ...  \n",
       "...                                                  ...  \n",
       "16897  организация закупка товар организация долгосро...  \n",
       "16898  поиск автотранспорт перевозка рф рк внутри рк ...  \n",
       "16899  отвечать звонок обрабатывать заявка презентаци...  \n",
       "16900  организация планирование контроль регулировани...  \n",
       "16901  составлять прогноз план вести поиск выгодный п...  \n",
       "\n",
       "[16902 rows x 8 columns]"
      ]
     },
     "execution_count": 5,
     "metadata": {},
     "output_type": "execute_result"
    }
   ],
   "source": [
    "df"
   ]
  },
  {
   "cell_type": "code",
   "execution_count": 6,
   "id": "8ebff420-2b38-4d5d-9aa8-3097ceb0f2e9",
   "metadata": {},
   "outputs": [],
   "source": [
    "import torch\n",
    "from transformers import AutoTokenizer, AutoModelForSequenceClassification"
   ]
  },
  {
   "cell_type": "code",
   "execution_count": 7,
   "id": "8deb3752-d463-450d-b3f5-f5be1519519e",
   "metadata": {},
   "outputs": [
    {
     "name": "stderr",
     "output_type": "stream",
     "text": [
      "/opt/jupyterhub/lib/python3.10/site-packages/transformers/tokenization_utils_base.py:1601: FutureWarning: `clean_up_tokenization_spaces` was not set. It will be set to `True` by default. This behavior will be depracted in transformers v4.45, and will be then set to `False` by default. For more details check this issue: https://github.com/huggingface/transformers/issues/31884\n",
      "  warnings.warn(\n",
      "Some weights of BertForSequenceClassification were not initialized from the model checkpoint at DeepPavlov/rubert-base-cased and are newly initialized: ['classifier.bias', 'classifier.weight']\n",
      "You should probably TRAIN this model on a down-stream task to be able to use it for predictions and inference.\n"
     ]
    }
   ],
   "source": [
    "tokenizer = AutoTokenizer.from_pretrained('DeepPavlov/rubert-base-cased')\n",
    "model = AutoModelForSequenceClassification.from_pretrained('DeepPavlov/rubert-base-cased', num_labels=76, output_attentions=True, output_hidden_states=True)"
   ]
  },
  {
   "cell_type": "code",
   "execution_count": 8,
   "id": "e33a27a3-a9c0-4a33-b590-cc1b64c0d52c",
   "metadata": {
    "collapsed": true,
    "jupyter": {
     "outputs_hidden": true
    },
    "scrolled": true
   },
   "outputs": [
    {
     "data": {
      "text/plain": [
       "BertForSequenceClassification(\n",
       "  (bert): BertModel(\n",
       "    (embeddings): BertEmbeddings(\n",
       "      (word_embeddings): Embedding(119547, 768, padding_idx=0)\n",
       "      (position_embeddings): Embedding(512, 768)\n",
       "      (token_type_embeddings): Embedding(2, 768)\n",
       "      (LayerNorm): LayerNorm((768,), eps=1e-12, elementwise_affine=True)\n",
       "      (dropout): Dropout(p=0.1, inplace=False)\n",
       "    )\n",
       "    (encoder): BertEncoder(\n",
       "      (layer): ModuleList(\n",
       "        (0-11): 12 x BertLayer(\n",
       "          (attention): BertAttention(\n",
       "            (self): BertSdpaSelfAttention(\n",
       "              (query): Linear(in_features=768, out_features=768, bias=True)\n",
       "              (key): Linear(in_features=768, out_features=768, bias=True)\n",
       "              (value): Linear(in_features=768, out_features=768, bias=True)\n",
       "              (dropout): Dropout(p=0.1, inplace=False)\n",
       "            )\n",
       "            (output): BertSelfOutput(\n",
       "              (dense): Linear(in_features=768, out_features=768, bias=True)\n",
       "              (LayerNorm): LayerNorm((768,), eps=1e-12, elementwise_affine=True)\n",
       "              (dropout): Dropout(p=0.1, inplace=False)\n",
       "            )\n",
       "          )\n",
       "          (intermediate): BertIntermediate(\n",
       "            (dense): Linear(in_features=768, out_features=3072, bias=True)\n",
       "            (intermediate_act_fn): GELUActivation()\n",
       "          )\n",
       "          (output): BertOutput(\n",
       "            (dense): Linear(in_features=3072, out_features=768, bias=True)\n",
       "            (LayerNorm): LayerNorm((768,), eps=1e-12, elementwise_affine=True)\n",
       "            (dropout): Dropout(p=0.1, inplace=False)\n",
       "          )\n",
       "        )\n",
       "      )\n",
       "    )\n",
       "    (pooler): BertPooler(\n",
       "      (dense): Linear(in_features=768, out_features=768, bias=True)\n",
       "      (activation): Tanh()\n",
       "    )\n",
       "  )\n",
       "  (dropout): Dropout(p=0.1, inplace=False)\n",
       "  (classifier): Linear(in_features=768, out_features=76, bias=True)\n",
       ")"
      ]
     },
     "execution_count": 8,
     "metadata": {},
     "output_type": "execute_result"
    }
   ],
   "source": [
    "device = torch.device('cuda' if torch.cuda.is_available() else 'cpu')\n",
    "model.to(device)"
   ]
  },
  {
   "cell_type": "code",
   "execution_count": 9,
   "id": "ec6a1861-65ef-4716-b032-049960544597",
   "metadata": {},
   "outputs": [],
   "source": [
    "def tokenize_function(description, tokenizer, max_length=512):\n",
    "    return tokenizer(description.tolist(), padding='max_length', truncation=True, max_length=max_length)"
   ]
  },
  {
   "cell_type": "code",
   "execution_count": 10,
   "id": "3f357527-cb03-44ae-bcd2-acc0c84a7f2f",
   "metadata": {},
   "outputs": [],
   "source": [
    "from sklearn.model_selection import train_test_split\n",
    "\n",
    "X = df['natasha_response_stopwords']\n",
    "y = df['class']\n",
    "X_train, X_test, y_train, y_test = train_test_split(X, y, test_size=0.2, random_state=42)\n",
    "\n",
    "X_train = X_train.reset_index(drop=True)\n",
    "X_test = X_test.reset_index(drop=True)\n",
    "y_train = y_train.reset_index(drop=True)\n",
    "y_test = y_test.reset_index(drop=True)"
   ]
  },
  {
   "cell_type": "code",
   "execution_count": 11,
   "id": "51bf85b4-58a0-4d99-95fb-35fc31090b9b",
   "metadata": {},
   "outputs": [],
   "source": [
    "train_encodings = tokenize_function(X_train, tokenizer)\n",
    "test_encodings = tokenize_function(X_test, tokenizer)"
   ]
  },
  {
   "cell_type": "code",
   "execution_count": 12,
   "id": "447addc3-856a-4d02-9b46-8d3be1d839e0",
   "metadata": {},
   "outputs": [],
   "source": [
    "train_labels = torch.tensor(y_train.values)\n",
    "test_labels = torch.tensor(y_test.values)"
   ]
  },
  {
   "cell_type": "code",
   "execution_count": 13,
   "id": "f7739057-a84d-43cc-8771-5fe2695df6f6",
   "metadata": {},
   "outputs": [],
   "source": [
    "from torch.utils.data import Dataset, DataLoader\n",
    "\n",
    "class JobDataset(Dataset):\n",
    "    def __init__(self, encodings, labels):\n",
    "        self.encodings = encodings\n",
    "        self.labels = labels\n",
    "\n",
    "    def __getitem__(self, idx):\n",
    "        item = {key: torch.tensor(val[idx]) for key, val in self.encodings.items()}\n",
    "        item['labels'] = torch.tensor(self.labels[idx])\n",
    "        return item\n",
    "\n",
    "    def __len__(self):\n",
    "        return len(self.labels)\n",
    "\n",
    "train_dataset = JobDataset(train_encodings, y_train)\n",
    "test_dataset = JobDataset(test_encodings, y_test)\n",
    "\n",
    "train_loader = DataLoader(train_dataset, batch_size=8, shuffle=True)\n",
    "test_loader = DataLoader(test_dataset, batch_size=8, shuffle=False)"
   ]
  },
  {
   "cell_type": "code",
   "execution_count": 14,
   "id": "cc797733-febe-4499-8ee2-eae29395d8b5",
   "metadata": {},
   "outputs": [],
   "source": [
    "from torch.optim import AdamW"
   ]
  },
  {
   "cell_type": "code",
   "execution_count": 15,
   "id": "9cbf6bef-8277-419d-bb5f-ff61fff6d8e0",
   "metadata": {},
   "outputs": [],
   "source": [
    "optimizer = AdamW(model.parameters(), lr=2e-5)"
   ]
  },
  {
   "cell_type": "code",
   "execution_count": 16,
   "id": "e7b2c07d-e024-4e31-bd20-030c8feb4c1c",
   "metadata": {},
   "outputs": [],
   "source": [
    "from tqdm import tqdm\n",
    "\n",
    "def train_model(model, train_loader, test_loader, optimizer, device, num_epochs=5, accumulation_steps=4):\n",
    "    train_losses = []\n",
    "    val_losses = []\n",
    "\n",
    "    for epoch in range(num_epochs):\n",
    "        model.train()\n",
    "        total_train_loss = 0\n",
    "\n",
    "        train_loader_tqdm = tqdm(train_loader, desc=f\"Эпоха {epoch+1}/{num_epochs} - Тренировка\", leave=False)\n",
    "\n",
    "        optimizer.zero_grad()  \n",
    "\n",
    "        for i, batch in enumerate(train_loader_tqdm):\n",
    "            input_ids = batch['input_ids'].to(device)\n",
    "            attention_mask = batch['attention_mask'].to(device)\n",
    "            labels = batch['labels'].to(device)\n",
    "\n",
    "            outputs = model(input_ids=input_ids, attention_mask=attention_mask, labels=labels)\n",
    "\n",
    "            loss = outputs.loss / accumulation_steps  \n",
    "            loss.backward()  \n",
    "            \n",
    "            if (i + 1) % accumulation_steps == 0:\n",
    "                optimizer.step()  \n",
    "                optimizer.zero_grad()  \n",
    "\n",
    "            total_train_loss += loss.item() * accumulation_steps  \n",
    "\n",
    "        avg_train_loss = total_train_loss / len(train_loader)\n",
    "        train_losses.append(avg_train_loss)\n",
    "\n",
    "        model.eval()\n",
    "        total_val_loss = 0\n",
    "\n",
    "        test_loader_tqdm = tqdm(test_loader, desc=f\"Эпоха {epoch+1}/{num_epochs} - Валидация\", leave=False)\n",
    "        with torch.no_grad():\n",
    "            for batch in test_loader_tqdm:\n",
    "                input_ids = batch['input_ids'].to(device)\n",
    "                attention_mask = batch['attention_mask'].to(device)\n",
    "                labels = batch['labels'].to(device)\n",
    "\n",
    "                outputs = model(input_ids=input_ids, attention_mask=attention_mask, labels=labels)\n",
    "                loss = outputs.loss\n",
    "                total_val_loss += loss.item()\n",
    "\n",
    "        avg_val_loss = total_val_loss / len(test_loader)\n",
    "        val_losses.append(avg_val_loss)\n",
    "\n",
    "        print(f\"Эпоха {epoch+1}/{num_epochs} | Тренировочная потеря: {avg_train_loss:.4f} | Валид потеря: {avg_val_loss:.4f}\")\n",
    "\n",
    "    return train_losses, val_losses\n"
   ]
  },
  {
   "cell_type": "code",
   "execution_count": 17,
   "id": "5fbaef38-50ed-4b14-93c6-c26099080716",
   "metadata": {},
   "outputs": [
    {
     "name": "stderr",
     "output_type": "stream",
     "text": [
      "Эпоха 1/5 - Тренировка:   0%|          | 0/1691 [00:00<?, ?it/s]BertSdpaSelfAttention is used but `torch.nn.functional.scaled_dot_product_attention` does not support non-absolute `position_embedding_type` or `output_attentions=True` or `head_mask`. Falling back to the manual attention implementation, but specifying the manual implementation will be required from Transformers version v5.0.0 onwards. This warning can be removed using the argument `attn_implementation=\"eager\"` when loading the model.\n",
      "                                                                           \r"
     ]
    },
    {
     "name": "stdout",
     "output_type": "stream",
     "text": [
      "Эпоха 1/5 | Тренировочная потеря: 3.1198 | Валид потеря: 1.9658\n"
     ]
    },
    {
     "name": "stderr",
     "output_type": "stream",
     "text": [
      "                                                                           \r"
     ]
    },
    {
     "name": "stdout",
     "output_type": "stream",
     "text": [
      "Эпоха 2/5 | Тренировочная потеря: 1.6022 | Валид потеря: 1.3193\n"
     ]
    },
    {
     "name": "stderr",
     "output_type": "stream",
     "text": [
      "                                                                           \r"
     ]
    },
    {
     "name": "stdout",
     "output_type": "stream",
     "text": [
      "Эпоха 3/5 | Тренировочная потеря: 1.1279 | Валид потеря: 1.1394\n"
     ]
    },
    {
     "name": "stderr",
     "output_type": "stream",
     "text": [
      "                                                                           \r"
     ]
    },
    {
     "name": "stdout",
     "output_type": "stream",
     "text": [
      "Эпоха 4/5 | Тренировочная потеря: 0.8890 | Валид потеря: 1.0555\n"
     ]
    },
    {
     "name": "stderr",
     "output_type": "stream",
     "text": [
      "                                                                           "
     ]
    },
    {
     "name": "stdout",
     "output_type": "stream",
     "text": [
      "Эпоха 5/5 | Тренировочная потеря: 0.7159 | Валид потеря: 1.0552\n"
     ]
    },
    {
     "name": "stderr",
     "output_type": "stream",
     "text": [
      "\r"
     ]
    }
   ],
   "source": [
    "train_losses, val_losses = train_model(model, train_loader, test_loader, optimizer, device)"
   ]
  },
  {
   "cell_type": "code",
   "execution_count": 18,
   "id": "8c54c3d7-355b-450f-b198-89c6204832b9",
   "metadata": {},
   "outputs": [
    {
     "data": {
      "text/plain": [
       "Index([ 0,  1,  2,  3,  4,  5,  6,  7,  8,  9, 10, 11, 12, 13, 14, 15, 16, 17,\n",
       "       18, 19, 20, 21, 22, 23, 24, 25, 26, 27, 28, 29, 30, 31, 32, 33, 34, 35,\n",
       "       36, 37, 38, 39, 40, 41, 42, 43, 44, 45, 46, 47, 48, 49, 50, 51, 52, 53,\n",
       "       54, 55, 56, 57, 58, 59, 60, 61, 62, 63, 64, 65, 66, 67, 68, 69, 70, 71,\n",
       "       72, 73, 74, 75],\n",
       "      dtype='int64', name='class')"
      ]
     },
     "execution_count": 18,
     "metadata": {},
     "output_type": "execute_result"
    }
   ],
   "source": [
    "df['class'].value_counts().sort_index().index"
   ]
  },
  {
   "cell_type": "code",
   "execution_count": 20,
   "id": "b98a6680-39a3-4e41-9d40-bef6d7622a07",
   "metadata": {},
   "outputs": [],
   "source": [
    "torch.save(model, 'model.pth')"
   ]
  },
  {
   "cell_type": "code",
   "execution_count": 22,
   "id": "85df0d1e-b340-4bfb-92ac-d49b5c0455aa",
   "metadata": {},
   "outputs": [
    {
     "data": {
      "image/png": "[encoded data removed]",
      "text/plain": [
       "<Figure size 800x600 with 1 Axes>"
      ]
     },
     "metadata": {},
     "output_type": "display_data"
    }
   ],
   "source": [
    "import matplotlib.pyplot as plt\n",
    "\n",
    "def plot_losses(train_losses, val_losses):\n",
    "    epochs = range(1, len(train_losses) + 1)\n",
    "    plt.figure(figsize=(8, 6))\n",
    "    plt.plot(epochs, train_losses, label='Train Loss')\n",
    "    plt.plot(epochs, val_losses, label='Validation Loss')\n",
    "    plt.title('Train and Validation Loss per Epoch')\n",
    "    plt.xlabel('Epochs')\n",
    "    plt.ylabel('Loss')\n",
    "    plt.legend()\n",
    "    plt.show()\n",
    "\n",
    "plot_losses(train_losses, val_losses)\n"
   ]
  },
  {
   "cell_type": "code",
   "execution_count": 24,
   "id": "dd11e378-e7a3-4331-8897-d667a391386f",
   "metadata": {},
   "outputs": [],
   "source": [
    "from sklearn.metrics import accuracy_score, precision_score, recall_score, f1_score"
   ]
  },
  {
   "cell_type": "code",
   "execution_count": 26,
   "id": "36a35cac-1d3c-42c0-b6a7-c739f717e562",
   "metadata": {},
   "outputs": [
    {
     "name": "stdout",
     "output_type": "stream",
     "text": [
      "Accuracy: 0.7010\n",
      "Precision: 0.7114\n",
      "Recall: 0.7010\n",
      "F1-score: 0.6928\n"
     ]
    }
   ],
   "source": [
    "from sklearn.metrics import accuracy_score, precision_score, recall_score, f1_score\n",
    "\n",
    "def evaluate_model(model, test_loader, device):\n",
    "    model.eval()\n",
    "    all_labels = []\n",
    "    all_predictions = []\n",
    "\n",
    "    with torch.no_grad():\n",
    "        for batch in test_loader:\n",
    "            input_ids = batch['input_ids'].to(device)\n",
    "            attention_mask = batch['attention_mask'].to(device)\n",
    "            labels = batch['labels'].to(device)\n",
    "\n",
    "            outputs = model(input_ids=input_ids, attention_mask=attention_mask)\n",
    "            predictions = torch.argmax(outputs.logits, dim=-1)\n",
    "\n",
    "            all_labels.extend(labels.cpu().numpy())\n",
    "            all_predictions.extend(predictions.cpu().numpy())\n",
    "\n",
    "    accuracy = accuracy_score(all_labels, all_predictions)\n",
    "    precision = precision_score(all_labels, all_predictions, average='weighted')  # Используем average='weighted'\n",
    "    recall = recall_score(all_labels, all_predictions, average='weighted')        # Используем average='weighted'\n",
    "    f1 = f1_score(all_labels, all_predictions, average='weighted')                # Используем average='weighted'\n",
    "\n",
    "    print(f'Accuracy: {accuracy:.4f}')\n",
    "    print(f'Precision: {precision:.4f}')\n",
    "    print(f'Recall: {recall:.4f}')\n",
    "    print(f'F1-score: {f1:.4f}')\n",
    "\n",
    "evaluate_model(model, test_loader, device)\n"
   ]
  },
  {
   "cell_type": "code",
   "execution_count": 27,
   "id": "788db0e3-b685-4c2b-bea5-d9bd7a9d0ac5",
   "metadata": {},
   "outputs": [],
   "source": [
    "torch.save(model.state_dict(), 'model_state_dict')"
   ]
  },
  {
   "cell_type": "code",
   "execution_count": 28,
   "id": "1d542da7-bf38-4d46-8d7f-91e520a2eca5",
   "metadata": {},
   "outputs": [],
   "source": [
    "test_data = pd.read_csv('dataset/test_data_0_406.csv')"
   ]
  },
  {
   "cell_type": "code",
   "execution_count": 29,
   "id": "7a91ce11-705e-4a2e-aec9-0d0657b0d897",
   "metadata": {},
   "outputs": [
    {
     "data": {
      "text/html": [
       "<div>\n",
       "<style scoped>\n",
       "    .dataframe tbody tr th:only-of-type {\n",
       "        vertical-align: middle;\n",
       "    }\n",
       "\n",
       "    .dataframe tbody tr th {\n",
       "        vertical-align: top;\n",
       "    }\n",
       "\n",
       "    .dataframe thead th {\n",
       "        text-align: right;\n",
       "    }\n",
       "</style>\n",
       "<table border=\"1\" class=\"dataframe\">\n",
       "  <thead>\n",
       "    <tr style=\"text-align: right;\">\n",
       "      <th></th>\n",
       "      <th>Unnamed: 0</th>\n",
       "      <th>id</th>\n",
       "      <th>name</th>\n",
       "      <th>description</th>\n",
       "      <th>class</th>\n",
       "      <th>clean_description</th>\n",
       "    </tr>\n",
       "  </thead>\n",
       "  <tbody>\n",
       "    <tr>\n",
       "      <th>0</th>\n",
       "      <td>0</td>\n",
       "      <td>14084</td>\n",
       "      <td>Менеджер по продажам смазочных материалов</td>\n",
       "      <td>&lt;p&gt;&lt;em&gt;&lt;strong&gt;Казахстанская&lt;/strong&gt;&lt;strong&gt; ...</td>\n",
       "      <td>0</td>\n",
       "      <td>казахстанская топливная компания специализируе...</td>\n",
       "    </tr>\n",
       "    <tr>\n",
       "      <th>1</th>\n",
       "      <td>1</td>\n",
       "      <td>14098</td>\n",
       "      <td>Менеджер по продажам</td>\n",
       "      <td>&lt;p&gt;ТОО АВИАПРОМСТАЛЬ - один из крупнейших пост...</td>\n",
       "      <td>0</td>\n",
       "      <td>тоо авиапромсталь крупнейших поставщиков черно...</td>\n",
       "    </tr>\n",
       "    <tr>\n",
       "      <th>2</th>\n",
       "      <td>2</td>\n",
       "      <td>14103</td>\n",
       "      <td>Менеджер по развитию сети (электроника)</td>\n",
       "      <td>&lt;p&gt;&lt;strong&gt;Возглавьте&lt;/strong&gt; команду продаж ...</td>\n",
       "      <td>0</td>\n",
       "      <td>возглавьте команду продаж крупнейшего производ...</td>\n",
       "    </tr>\n",
       "    <tr>\n",
       "      <th>3</th>\n",
       "      <td>3</td>\n",
       "      <td>14104</td>\n",
       "      <td>Супервайзер альтернативного канала продаж (МТС)</td>\n",
       "      <td>&lt;strong&gt;Обязанности:&lt;/strong&gt; &lt;ul&gt; &lt;li&gt;Основна...</td>\n",
       "      <td>0</td>\n",
       "      <td>обязанности основная работа связана обучением ...</td>\n",
       "    </tr>\n",
       "    <tr>\n",
       "      <th>4</th>\n",
       "      <td>4</td>\n",
       "      <td>14111</td>\n",
       "      <td>Супервайзер отдела доставки</td>\n",
       "      <td>&lt;p&gt;&lt;strong&gt;Обязанности:&lt;/strong&gt;&lt;/p&gt; &lt;ul&gt; &lt;li&gt;...</td>\n",
       "      <td>0</td>\n",
       "      <td>обязанности старший супервайзер доставке серви...</td>\n",
       "    </tr>\n",
       "  </tbody>\n",
       "</table>\n",
       "</div>"
      ],
      "text/plain": [
       "   Unnamed: 0     id                                             name  \\\n",
       "0           0  14084        Менеджер по продажам смазочных материалов   \n",
       "1           1  14098                             Менеджер по продажам   \n",
       "2           2  14103          Менеджер по развитию сети (электроника)   \n",
       "3           3  14104  Супервайзер альтернативного канала продаж (МТС)   \n",
       "4           4  14111                      Супервайзер отдела доставки   \n",
       "\n",
       "                                         description  class  \\\n",
       "0  <p><em><strong>Казахстанская</strong><strong> ...      0   \n",
       "1  <p>ТОО АВИАПРОМСТАЛЬ - один из крупнейших пост...      0   \n",
       "2  <p><strong>Возглавьте</strong> команду продаж ...      0   \n",
       "3  <strong>Обязанности:</strong> <ul> <li>Основна...      0   \n",
       "4  <p><strong>Обязанности:</strong></p> <ul> <li>...      0   \n",
       "\n",
       "                                   clean_description  \n",
       "0  казахстанская топливная компания специализируе...  \n",
       "1  тоо авиапромсталь крупнейших поставщиков черно...  \n",
       "2  возглавьте команду продаж крупнейшего производ...  \n",
       "3  обязанности основная работа связана обучением ...  \n",
       "4  обязанности старший супервайзер доставке серви...  "
      ]
     },
     "execution_count": 29,
     "metadata": {},
     "output_type": "execute_result"
    }
   ],
   "source": [
    "test_data.head"
   ]
  },
  {
   "cell_type": "code",
   "execution_count": 30,
   "id": "e60b03a1-f6ec-4bc7-97a5-9dce1f5e11e9",
   "metadata": {},
   "outputs": [
    {
     "name": "stderr",
     "output_type": "stream",
     "text": [
      "Предсказания: 100%|██████████| 4343/4343 [32:09<00:00,  2.25it/s]\n"
     ]
    }
   ],
   "source": [
    "from tqdm import tqdm\n",
    "import torch\n",
    "import torch.nn.functional as F\n",
    "import pandas as pd\n",
    "\n",
    "\n",
    "def tokenize_descriptions(descriptions, tokenizer, max_length=512):\n",
    "    return tokenizer(descriptions.tolist(), padding='max_length', truncation=True, max_length=max_length, return_tensors=\"pt\")\n",
    "\n",
    "encodings = tokenize_descriptions(test_data['clean_description'], tokenizer)\n",
    "\n",
    "class DescriptionDataset(Dataset):\n",
    "    def __init__(self, encodings):\n",
    "        self.encodings = encodings\n",
    "\n",
    "    def __getitem__(self, idx):\n",
    "        item = {key: val[idx] for key, val in self.encodings.items()}\n",
    "        return item\n",
    "\n",
    "    def __len__(self):\n",
    "        return len(self.encodings['input_ids'])\n",
    "\n",
    "description_dataset = DescriptionDataset(encodings)\n",
    "description_loader = DataLoader(description_dataset, batch_size=16, shuffle=False)\n",
    "\n",
    "def predict(model, data_loader, device):\n",
    "    model.eval()\n",
    "    predictions = []\n",
    "    probabilities = []\n",
    "    \n",
    "    with torch.no_grad():\n",
    "        for batch in tqdm(data_loader, desc=\"Предсказания\"):\n",
    "            input_ids = batch['input_ids'].to(device)\n",
    "            attention_mask = batch['attention_mask'].to(device)\n",
    "            \n",
    "            outputs = model(input_ids=input_ids, attention_mask=attention_mask)\n",
    "            logits = outputs.logits\n",
    "            \n",
    "            probs = F.softmax(logits, dim=-1)\n",
    "            \n",
    "            predicted_classes = torch.argmax(probs, dim=-1)\n",
    "            \n",
    "            predictions.extend(predicted_classes.cpu().numpy())\n",
    "            probabilities.extend(probs.cpu().numpy())\n",
    "    \n",
    "    return predictions, probabilities\n",
    "\n",
    "predicted_classes, predicted_probabilities = predict(model, description_loader, device)\n",
    "\n",
    "test_data['predicted_class'] = predicted_classes\n",
    "test_data['predicted_probability'] = [max(prob) for prob in predicted_probabilities]\n"
   ]
  },
  {
   "cell_type": "code",
   "execution_count": 36,
   "id": "97007452-9b96-4771-8a18-b84d9808db77",
   "metadata": {},
   "outputs": [],
   "source": [
    "sample = test_data.groupby(['predicted_class']).mean('predicted_probability')"
   ]
  },
  {
   "cell_type": "code",
   "execution_count": 39,
   "id": "adc18897-79d1-44b5-8f05-0d324fdf14b9",
   "metadata": {},
   "outputs": [],
   "source": [
    "sample.to_excel('dataset/res_of_testing_0_406.xlsx')"
   ]
  },
  {
   "cell_type": "code",
   "execution_count": null,
   "id": "39b5819a-ef88-4ae3-9a12-9303ad3370c6",
   "metadata": {},
   "outputs": [],
   "source": []
  }
 ],
 "metadata": {
  "kernelspec": {
   "display_name": "Python 3 (ipykernel)",
   "language": "python",
   "name": "python3"
  },
  "language_info": {
   "codemirror_mode": {
    "name": "ipython",
    "version": 3
   },
   "file_extension": ".py",
   "mimetype": "text/x-python",
   "name": "python",
   "nbconvert_exporter": "python",
   "pygments_lexer": "ipython3",
   "version": "3.10.14"
  }
 },
 "nbformat": 4,
 "nbformat_minor": 5
}
