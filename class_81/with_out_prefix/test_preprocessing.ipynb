{
 "cells": [
  {
   "cell_type": "code",
   "execution_count": 1,
   "id": "09f11421-0bf3-448f-ba3c-22354882e22a",
   "metadata": {},
   "outputs": [],
   "source": [
    "import pandas as pd"
   ]
  },
  {
   "cell_type": "code",
   "execution_count": 2,
   "id": "609a34e5-084f-435d-b4b7-1f5ef7f0c349",
   "metadata": {},
   "outputs": [],
   "source": [
    "test_data = pd.read_excel('dataset/test_data_0_406.xlsx')"
   ]
  },
  {
   "cell_type": "code",
   "execution_count": 4,
   "id": "b6d160fa-ff0e-49be-8125-17edad5de870",
   "metadata": {},
   "outputs": [
    {
     "data": {
      "text/plain": [
       "69484"
      ]
     },
     "execution_count": 4,
     "metadata": {},
     "output_type": "execute_result"
    }
   ],
   "source": [
    "len(test_data)"
   ]
  },
  {
   "cell_type": "code",
   "execution_count": 5,
   "id": "047f1733-d393-48b4-8eff-c4941a07d617",
   "metadata": {},
   "outputs": [
    {
     "data": {
      "text/html": [
       "<div>\n",
       "<style scoped>\n",
       "    .dataframe tbody tr th:only-of-type {\n",
       "        vertical-align: middle;\n",
       "    }\n",
       "\n",
       "    .dataframe tbody tr th {\n",
       "        vertical-align: top;\n",
       "    }\n",
       "\n",
       "    .dataframe thead th {\n",
       "        text-align: right;\n",
       "    }\n",
       "</style>\n",
       "<table border=\"1\" class=\"dataframe\">\n",
       "  <thead>\n",
       "    <tr style=\"text-align: right;\">\n",
       "      <th></th>\n",
       "      <th>id</th>\n",
       "      <th>name</th>\n",
       "      <th>description</th>\n",
       "      <th>profession_id</th>\n",
       "    </tr>\n",
       "  </thead>\n",
       "  <tbody>\n",
       "    <tr>\n",
       "      <th>0</th>\n",
       "      <td>14084</td>\n",
       "      <td>Менеджер по продажам смазочных материалов</td>\n",
       "      <td>&lt;p&gt;&lt;em&gt;&lt;strong&gt;Казахстанская&lt;/strong&gt;&lt;strong&gt; ...</td>\n",
       "      <td>0</td>\n",
       "    </tr>\n",
       "    <tr>\n",
       "      <th>1</th>\n",
       "      <td>14098</td>\n",
       "      <td>Менеджер по продажам</td>\n",
       "      <td>&lt;p&gt;ТОО АВИАПРОМСТАЛЬ - один из крупнейших пост...</td>\n",
       "      <td>0</td>\n",
       "    </tr>\n",
       "    <tr>\n",
       "      <th>2</th>\n",
       "      <td>14103</td>\n",
       "      <td>Менеджер по развитию сети (электроника)</td>\n",
       "      <td>&lt;p&gt;&lt;strong&gt;Возглавьте&lt;/strong&gt; команду продаж ...</td>\n",
       "      <td>0</td>\n",
       "    </tr>\n",
       "    <tr>\n",
       "      <th>3</th>\n",
       "      <td>14104</td>\n",
       "      <td>Супервайзер альтернативного канала продаж (МТС)</td>\n",
       "      <td>&lt;strong&gt;Обязанности:&lt;/strong&gt; &lt;ul&gt; &lt;li&gt;Основна...</td>\n",
       "      <td>0</td>\n",
       "    </tr>\n",
       "    <tr>\n",
       "      <th>4</th>\n",
       "      <td>14111</td>\n",
       "      <td>Супервайзер отдела доставки</td>\n",
       "      <td>&lt;p&gt;&lt;strong&gt;Обязанности:&lt;/strong&gt;&lt;/p&gt; &lt;ul&gt; &lt;li&gt;...</td>\n",
       "      <td>0</td>\n",
       "    </tr>\n",
       "  </tbody>\n",
       "</table>\n",
       "</div>"
      ],
      "text/plain": [
       "      id                                             name  \\\n",
       "0  14084        Менеджер по продажам смазочных материалов   \n",
       "1  14098                             Менеджер по продажам   \n",
       "2  14103          Менеджер по развитию сети (электроника)   \n",
       "3  14104  Супервайзер альтернативного канала продаж (МТС)   \n",
       "4  14111                      Супервайзер отдела доставки   \n",
       "\n",
       "                                         description  profession_id  \n",
       "0  <p><em><strong>Казахстанская</strong><strong> ...              0  \n",
       "1  <p>ТОО АВИАПРОМСТАЛЬ - один из крупнейших пост...              0  \n",
       "2  <p><strong>Возглавьте</strong> команду продаж ...              0  \n",
       "3  <strong>Обязанности:</strong> <ul> <li>Основна...              0  \n",
       "4  <p><strong>Обязанности:</strong></p> <ul> <li>...              0  "
      ]
     },
     "execution_count": 5,
     "metadata": {},
     "output_type": "execute_result"
    }
   ],
   "source": [
    "test_data.head()"
   ]
  },
  {
   "cell_type": "code",
   "execution_count": 7,
   "id": "b7062fa4-ebd6-42e6-b49d-217d7d546d8f",
   "metadata": {},
   "outputs": [],
   "source": [
    "test_data.rename(columns={'profession_id': 'class'}, inplace = True)"
   ]
  },
  {
   "cell_type": "code",
   "execution_count": 9,
   "id": "f29ee243-76c2-40a6-bde7-c5dac3d7fa63",
   "metadata": {},
   "outputs": [
    {
     "data": {
      "text/plain": [
       "Index([  0,   1,  13,  14,  15,  16,  17,  18,  22,  45,  67,  84,  86,  87,\n",
       "        88,  89,  91,  92,  95,  96,  97, 100, 101, 102, 103, 105, 106, 107,\n",
       "       108, 109, 110, 117, 121, 125, 141, 142, 143, 144, 145, 152, 154, 156,\n",
       "       164, 184, 188, 190, 193, 199, 204, 206, 229, 233, 238, 239, 240, 241,\n",
       "       245, 246, 247, 249, 257, 258, 274, 277, 300, 302, 303, 305, 306, 313,\n",
       "       316, 317, 319, 320, 321, 325, 329, 331, 353, 354, 356, 365, 368],\n",
       "      dtype='int64', name='class')"
      ]
     },
     "execution_count": 9,
     "metadata": {},
     "output_type": "execute_result"
    }
   ],
   "source": [
    "test_data['class'].value_counts().sort_index().index"
   ]
  },
  {
   "cell_type": "code",
   "execution_count": null,
   "id": "e768f65d-6042-4a04-8c0e-960be3e3593f",
   "metadata": {},
   "outputs": [],
   "source": []
  }
 ],
 "metadata": {
  "kernelspec": {
   "display_name": "Python 3 (ipykernel)",
   "language": "python",
   "name": "python3"
  },
  "language_info": {
   "codemirror_mode": {
    "name": "ipython",
    "version": 3
   },
   "file_extension": ".py",
   "mimetype": "text/x-python",
   "name": "python",
   "nbconvert_exporter": "python",
   "pygments_lexer": "ipython3",
   "version": "3.10.14"
  }
 },
 "nbformat": 4,
 "nbformat_minor": 5
}
